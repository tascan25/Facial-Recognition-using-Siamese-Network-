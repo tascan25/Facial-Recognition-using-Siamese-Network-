{
 "cells": [
  {
   "cell_type": "markdown",
   "id": "23df777c",
   "metadata": {},
   "source": [
    "# setup and installing dependencies"
   ]
  },
  {
   "cell_type": "code",
   "execution_count": 1,
   "id": "e38156f5",
   "metadata": {},
   "outputs": [
    {
     "name": "stdout",
     "output_type": "stream",
     "text": [
      "Requirement already satisfied: tensorflow in d:\\facial_recognition\\facialreco\\lib\\site-packages (2.14.0)\n",
      "Requirement already satisfied: opencv-python in d:\\facial_recognition\\facialreco\\lib\\site-packages (4.8.1.78)\n",
      "Requirement already satisfied: matplotlib in d:\\facial_recognition\\facialreco\\lib\\site-packages (3.8.0)\n",
      "Requirement already satisfied: tensorflow-intel==2.14.0 in d:\\facial_recognition\\facialreco\\lib\\site-packages (from tensorflow) (2.14.0)\n",
      "Requirement already satisfied: libclang>=13.0.0 in d:\\facial_recognition\\facialreco\\lib\\site-packages (from tensorflow-intel==2.14.0->tensorflow) (16.0.6)\n",
      "Requirement already satisfied: tensorflow-io-gcs-filesystem>=0.23.1 in d:\\facial_recognition\\facialreco\\lib\\site-packages (from tensorflow-intel==2.14.0->tensorflow) (0.31.0)\n",
      "Requirement already satisfied: tensorboard<2.15,>=2.14 in d:\\facial_recognition\\facialreco\\lib\\site-packages (from tensorflow-intel==2.14.0->tensorflow) (2.14.1)\n",
      "Requirement already satisfied: wrapt<1.15,>=1.11.0 in d:\\facial_recognition\\facialreco\\lib\\site-packages (from tensorflow-intel==2.14.0->tensorflow) (1.14.1)\n",
      "Requirement already satisfied: numpy>=1.23.5 in d:\\facial_recognition\\facialreco\\lib\\site-packages (from tensorflow-intel==2.14.0->tensorflow) (1.26.0)\n",
      "Requirement already satisfied: opt-einsum>=2.3.2 in d:\\facial_recognition\\facialreco\\lib\\site-packages (from tensorflow-intel==2.14.0->tensorflow) (3.3.0)\n",
      "Requirement already satisfied: typing-extensions>=3.6.6 in d:\\facial_recognition\\facialreco\\lib\\site-packages (from tensorflow-intel==2.14.0->tensorflow) (4.8.0)\n",
      "Requirement already satisfied: protobuf!=4.21.0,!=4.21.1,!=4.21.2,!=4.21.3,!=4.21.4,!=4.21.5,<5.0.0dev,>=3.20.3 in d:\\facial_recognition\\facialreco\\lib\\site-packages (from tensorflow-intel==2.14.0->tensorflow) (4.24.3)\n",
      "Requirement already satisfied: tensorflow-estimator<2.15,>=2.14.0 in d:\\facial_recognition\\facialreco\\lib\\site-packages (from tensorflow-intel==2.14.0->tensorflow) (2.14.0)\n",
      "Requirement already satisfied: termcolor>=1.1.0 in d:\\facial_recognition\\facialreco\\lib\\site-packages (from tensorflow-intel==2.14.0->tensorflow) (2.3.0)\n",
      "Requirement already satisfied: packaging in d:\\facial_recognition\\facialreco\\lib\\site-packages (from tensorflow-intel==2.14.0->tensorflow) (23.2)\n",
      "Requirement already satisfied: flatbuffers>=23.5.26 in d:\\facial_recognition\\facialreco\\lib\\site-packages (from tensorflow-intel==2.14.0->tensorflow) (23.5.26)\n",
      "Requirement already satisfied: ml-dtypes==0.2.0 in d:\\facial_recognition\\facialreco\\lib\\site-packages (from tensorflow-intel==2.14.0->tensorflow) (0.2.0)\n",
      "Requirement already satisfied: gast!=0.5.0,!=0.5.1,!=0.5.2,>=0.2.1 in d:\\facial_recognition\\facialreco\\lib\\site-packages (from tensorflow-intel==2.14.0->tensorflow) (0.5.4)\n",
      "Requirement already satisfied: h5py>=2.9.0 in d:\\facial_recognition\\facialreco\\lib\\site-packages (from tensorflow-intel==2.14.0->tensorflow) (3.9.0)\n",
      "Requirement already satisfied: setuptools in d:\\facial_recognition\\facialreco\\lib\\site-packages (from tensorflow-intel==2.14.0->tensorflow) (57.4.0)\n",
      "Requirement already satisfied: keras<2.15,>=2.14.0 in d:\\facial_recognition\\facialreco\\lib\\site-packages (from tensorflow-intel==2.14.0->tensorflow) (2.14.0)\n",
      "Requirement already satisfied: google-pasta>=0.1.1 in d:\\facial_recognition\\facialreco\\lib\\site-packages (from tensorflow-intel==2.14.0->tensorflow) (0.2.0)\n",
      "Requirement already satisfied: astunparse>=1.6.0 in d:\\facial_recognition\\facialreco\\lib\\site-packages (from tensorflow-intel==2.14.0->tensorflow) (1.6.3)\n",
      "Requirement already satisfied: six>=1.12.0 in d:\\facial_recognition\\facialreco\\lib\\site-packages (from tensorflow-intel==2.14.0->tensorflow) (1.16.0)\n",
      "Requirement already satisfied: grpcio<2.0,>=1.24.3 in d:\\facial_recognition\\facialreco\\lib\\site-packages (from tensorflow-intel==2.14.0->tensorflow) (1.59.0)\n",
      "Requirement already satisfied: absl-py>=1.0.0 in d:\\facial_recognition\\facialreco\\lib\\site-packages (from tensorflow-intel==2.14.0->tensorflow) (2.0.0)\n",
      "Requirement already satisfied: pillow>=6.2.0 in d:\\facial_recognition\\facialreco\\lib\\site-packages (from matplotlib) (10.0.1)\n",
      "Requirement already satisfied: kiwisolver>=1.0.1 in d:\\facial_recognition\\facialreco\\lib\\site-packages (from matplotlib) (1.4.5)\n",
      "Requirement already satisfied: cycler>=0.10 in d:\\facial_recognition\\facialreco\\lib\\site-packages (from matplotlib) (0.12.0)\n",
      "Requirement already satisfied: pyparsing>=2.3.1 in d:\\facial_recognition\\facialreco\\lib\\site-packages (from matplotlib) (3.1.1)\n",
      "Requirement already satisfied: fonttools>=4.22.0 in d:\\facial_recognition\\facialreco\\lib\\site-packages (from matplotlib) (4.43.0)\n",
      "Requirement already satisfied: importlib-resources>=3.2.0 in d:\\facial_recognition\\facialreco\\lib\\site-packages (from matplotlib) (6.1.0)\n",
      "Requirement already satisfied: python-dateutil>=2.7 in d:\\facial_recognition\\facialreco\\lib\\site-packages (from matplotlib) (2.8.2)\n",
      "Requirement already satisfied: contourpy>=1.0.1 in d:\\facial_recognition\\facialreco\\lib\\site-packages (from matplotlib) (1.1.1)\n",
      "Requirement already satisfied: wheel<1.0,>=0.23.0 in d:\\facial_recognition\\facialreco\\lib\\site-packages (from astunparse>=1.6.0->tensorflow-intel==2.14.0->tensorflow) (0.41.2)\n",
      "Requirement already satisfied: zipp>=3.1.0 in d:\\facial_recognition\\facialreco\\lib\\site-packages (from importlib-resources>=3.2.0->matplotlib) (3.17.0)\n",
      "Requirement already satisfied: markdown>=2.6.8 in d:\\facial_recognition\\facialreco\\lib\\site-packages (from tensorboard<2.15,>=2.14->tensorflow-intel==2.14.0->tensorflow) (3.4.4)\n",
      "Requirement already satisfied: werkzeug>=1.0.1 in d:\\facial_recognition\\facialreco\\lib\\site-packages (from tensorboard<2.15,>=2.14->tensorflow-intel==2.14.0->tensorflow) (3.0.0)\n",
      "Requirement already satisfied: requests<3,>=2.21.0 in d:\\facial_recognition\\facialreco\\lib\\site-packages (from tensorboard<2.15,>=2.14->tensorflow-intel==2.14.0->tensorflow) (2.31.0)\n",
      "Requirement already satisfied: google-auth<3,>=1.6.3 in d:\\facial_recognition\\facialreco\\lib\\site-packages (from tensorboard<2.15,>=2.14->tensorflow-intel==2.14.0->tensorflow) (2.23.2)\n",
      "Requirement already satisfied: tensorboard-data-server<0.8.0,>=0.7.0 in d:\\facial_recognition\\facialreco\\lib\\site-packages (from tensorboard<2.15,>=2.14->tensorflow-intel==2.14.0->tensorflow) (0.7.1)\n",
      "Requirement already satisfied: google-auth-oauthlib<1.1,>=0.5 in d:\\facial_recognition\\facialreco\\lib\\site-packages (from tensorboard<2.15,>=2.14->tensorflow-intel==2.14.0->tensorflow) (1.0.0)\n",
      "Requirement already satisfied: rsa<5,>=3.1.4 in d:\\facial_recognition\\facialreco\\lib\\site-packages (from google-auth<3,>=1.6.3->tensorboard<2.15,>=2.14->tensorflow-intel==2.14.0->tensorflow) (4.9)\n",
      "Requirement already satisfied: pyasn1-modules>=0.2.1 in d:\\facial_recognition\\facialreco\\lib\\site-packages (from google-auth<3,>=1.6.3->tensorboard<2.15,>=2.14->tensorflow-intel==2.14.0->tensorflow) (0.3.0)\n",
      "Requirement already satisfied: cachetools<6.0,>=2.0.0 in d:\\facial_recognition\\facialreco\\lib\\site-packages (from google-auth<3,>=1.6.3->tensorboard<2.15,>=2.14->tensorflow-intel==2.14.0->tensorflow) (5.3.1)\n",
      "Requirement already satisfied: requests-oauthlib>=0.7.0 in d:\\facial_recognition\\facialreco\\lib\\site-packages (from google-auth-oauthlib<1.1,>=0.5->tensorboard<2.15,>=2.14->tensorflow-intel==2.14.0->tensorflow) (1.3.1)\n",
      "Requirement already satisfied: importlib-metadata>=4.4 in d:\\facial_recognition\\facialreco\\lib\\site-packages (from markdown>=2.6.8->tensorboard<2.15,>=2.14->tensorflow-intel==2.14.0->tensorflow) (6.8.0)\n",
      "Requirement already satisfied: pyasn1<0.6.0,>=0.4.6 in d:\\facial_recognition\\facialreco\\lib\\site-packages (from pyasn1-modules>=0.2.1->google-auth<3,>=1.6.3->tensorboard<2.15,>=2.14->tensorflow-intel==2.14.0->tensorflow) (0.5.0)\n",
      "Requirement already satisfied: urllib3<3,>=1.21.1 in d:\\facial_recognition\\facialreco\\lib\\site-packages (from requests<3,>=2.21.0->tensorboard<2.15,>=2.14->tensorflow-intel==2.14.0->tensorflow) (2.0.5)\n",
      "Requirement already satisfied: charset-normalizer<4,>=2 in d:\\facial_recognition\\facialreco\\lib\\site-packages (from requests<3,>=2.21.0->tensorboard<2.15,>=2.14->tensorflow-intel==2.14.0->tensorflow) (3.3.0)\n",
      "Requirement already satisfied: idna<4,>=2.5 in d:\\facial_recognition\\facialreco\\lib\\site-packages (from requests<3,>=2.21.0->tensorboard<2.15,>=2.14->tensorflow-intel==2.14.0->tensorflow) (3.4)\n",
      "Requirement already satisfied: certifi>=2017.4.17 in d:\\facial_recognition\\facialreco\\lib\\site-packages (from requests<3,>=2.21.0->tensorboard<2.15,>=2.14->tensorflow-intel==2.14.0->tensorflow) (2023.7.22)\n",
      "Requirement already satisfied: oauthlib>=3.0.0 in d:\\facial_recognition\\facialreco\\lib\\site-packages (from requests-oauthlib>=0.7.0->google-auth-oauthlib<1.1,>=0.5->tensorboard<2.15,>=2.14->tensorflow-intel==2.14.0->tensorflow) (3.2.2)\n",
      "Requirement already satisfied: MarkupSafe>=2.1.1 in d:\\facial_recognition\\facialreco\\lib\\site-packages (from werkzeug>=1.0.1->tensorboard<2.15,>=2.14->tensorflow-intel==2.14.0->tensorflow) (2.1.3)\n"
     ]
    },
    {
     "name": "stderr",
     "output_type": "stream",
     "text": [
      "WARNING: You are using pip version 21.2.3; however, version 23.2.1 is available.\n",
      "You should consider upgrading via the 'D:\\facial_recognition\\facialreco\\Scripts\\python.exe -m pip install --upgrade pip' command.\n"
     ]
    }
   ],
   "source": [
    "!pip install tensorflow opencv-python matplotlib"
   ]
  },
  {
   "cell_type": "code",
   "execution_count": 1,
   "id": "2b6f63cd",
   "metadata": {},
   "outputs": [],
   "source": [
    "import os\n",
    "import random\n",
    "from matplotlib import pyplot as plt\n",
    "import numpy as np\n",
    "import cv2"
   ]
  },
  {
   "cell_type": "code",
   "execution_count": 2,
   "id": "bc5b2722",
   "metadata": {},
   "outputs": [],
   "source": [
    "import tensorflow as tf\n",
    "from tensorflow.keras.models import Model\n",
    "from tensorflow.keras.layers import Layer, Conv2D, Dense, MaxPooling2D,Input,Flatten"
   ]
  },
  {
   "cell_type": "code",
   "execution_count": 4,
   "id": "1298d1a5",
   "metadata": {},
   "outputs": [],
   "source": [
    "#creating folder structure \n",
    "pos_path = os.path.join('data','positive')\n",
    "neg_path = os.path.join('data','negative')\n",
    "anc_path = os.path.join('data','anchor')\n"
   ]
  },
  {
   "cell_type": "code",
   "execution_count": 7,
   "id": "e4e0d804",
   "metadata": {
    "collapsed": true,
    "jupyter": {
     "outputs_hidden": true
    }
   },
   "outputs": [
    {
     "ename": "FileExistsError",
     "evalue": "[WinError 183] Cannot create a file when that file already exists: 'data\\\\positive'",
     "output_type": "error",
     "traceback": [
      "\u001b[1;31m---------------------------------------------------------------------------\u001b[0m",
      "\u001b[1;31mFileExistsError\u001b[0m                           Traceback (most recent call last)",
      "Cell \u001b[1;32mIn[7], line 1\u001b[0m\n\u001b[1;32m----> 1\u001b[0m \u001b[43mos\u001b[49m\u001b[38;5;241;43m.\u001b[39;49m\u001b[43mmakedirs\u001b[49m\u001b[43m(\u001b[49m\u001b[43mpos_path\u001b[49m\u001b[43m)\u001b[49m\n\u001b[0;32m      2\u001b[0m os\u001b[38;5;241m.\u001b[39mmakedirs(neg_path)\n\u001b[0;32m      3\u001b[0m os\u001b[38;5;241m.\u001b[39mmakedirs(anc_path)\n",
      "File \u001b[1;32mD:\\anaconda3\\lib\\os.py:225\u001b[0m, in \u001b[0;36mmakedirs\u001b[1;34m(name, mode, exist_ok)\u001b[0m\n\u001b[0;32m    223\u001b[0m         \u001b[38;5;28;01mreturn\u001b[39;00m\n\u001b[0;32m    224\u001b[0m \u001b[38;5;28;01mtry\u001b[39;00m:\n\u001b[1;32m--> 225\u001b[0m     \u001b[43mmkdir\u001b[49m\u001b[43m(\u001b[49m\u001b[43mname\u001b[49m\u001b[43m,\u001b[49m\u001b[43m \u001b[49m\u001b[43mmode\u001b[49m\u001b[43m)\u001b[49m\n\u001b[0;32m    226\u001b[0m \u001b[38;5;28;01mexcept\u001b[39;00m \u001b[38;5;167;01mOSError\u001b[39;00m:\n\u001b[0;32m    227\u001b[0m     \u001b[38;5;66;03m# Cannot rely on checking for EEXIST, since the operating system\u001b[39;00m\n\u001b[0;32m    228\u001b[0m     \u001b[38;5;66;03m# could give priority to other errors like EACCES or EROFS\u001b[39;00m\n\u001b[0;32m    229\u001b[0m     \u001b[38;5;28;01mif\u001b[39;00m \u001b[38;5;129;01mnot\u001b[39;00m exist_ok \u001b[38;5;129;01mor\u001b[39;00m \u001b[38;5;129;01mnot\u001b[39;00m path\u001b[38;5;241m.\u001b[39misdir(name):\n",
      "\u001b[1;31mFileExistsError\u001b[0m: [WinError 183] Cannot create a file when that file already exists: 'data\\\\positive'"
     ]
    }
   ],
   "source": [
    "os.makedirs(pos_path)\n",
    "os.makedirs(neg_path)\n",
    "os.makedirs(anc_path)"
   ]
  },
  {
   "cell_type": "markdown",
   "id": "6e7e2d91",
   "metadata": {},
   "source": [
    "# collecting positives and anchor"
   ]
  },
  {
   "cell_type": "code",
   "execution_count": 5,
   "id": "65248f07",
   "metadata": {},
   "outputs": [],
   "source": [
    "import uuid # this will help in generating unique image names"
   ]
  },
  {
   "cell_type": "code",
   "execution_count": 2,
   "id": "ede8c046",
   "metadata": {},
   "outputs": [],
   "source": [
    "# https://vis-www.cs.umass.edu/lfw/\n",
    "#uncompressed tar GZ file containing dataset\n",
    "!tar -xf lfw.tgz"
   ]
  },
  {
   "cell_type": "code",
   "execution_count": 9,
   "id": "693edf1a",
   "metadata": {},
   "outputs": [],
   "source": [
    "for directory in os.listdir('lfw'):\n",
    "    for file in os.listdir(os.path.join('lfw',directory)):\n",
    "        ex_path = os.path.join('lfw',directory,file)\n",
    "        new_path = os.path.join(neg_path,file)\n",
    "        os.replace(ex_path,new_path)"
   ]
  },
  {
   "cell_type": "code",
   "execution_count": 5,
   "id": "19744470",
   "metadata": {},
   "outputs": [],
   "source": [
    "#setting webcam\n",
    "cap = cv2.VideoCapture(0)\n",
    "while cap.isOpened():\n",
    "    ret, frame = cap.read()\n",
    "    #cut down frame to 250x250 px\n",
    "    frame = frame[120:120+250,200:200+250,:]\n",
    "    #collecting anchors\n",
    "    if cv2.waitKey(1)&0XFF==ord('a'):\n",
    "        imgname = os.path.join(anc_path,'{}.jpg'.format(uuid.uuid1()))\n",
    "        cv2.imwrite(imgname,frame)\n",
    "    #collecting positves\n",
    "    if cv2.waitKey(1)&0XFF==ord('p'):\n",
    "        imgname = os.path.join(pos_path,'{}.jpg'.format(uuid.uuid1()))\n",
    "        cv2.imwrite(imgname,frame)\n",
    "    cv2.imshow(\"image collection\",frame)\n",
    "    #plt.imshow(frame)\n",
    "    if cv2.waitKey(1) & 0XFF==ord('q'):\n",
    "        break\n",
    "cap.release()\n",
    "cv2.destroyAllWindows()"
   ]
  },
  {
   "cell_type": "markdown",
   "id": "24e188f8",
   "metadata": {},
   "source": [
    "# load and preprocessing images\n"
   ]
  },
  {
   "cell_type": "code",
   "execution_count": 6,
   "id": "3ff8a038",
   "metadata": {},
   "outputs": [],
   "source": [
    "anchor = tf.data.Dataset.list_files(anc_path+'\\*.jpg').take(300)\n",
    "positive = tf.data.Dataset.list_files(pos_path+'\\*.jpg').take(300)\n",
    "negative = tf.data.Dataset.list_files(neg_path+'\\*.jpg').take(300)\n"
   ]
  },
  {
   "cell_type": "code",
   "execution_count": 7,
   "id": "ee1bfda9",
   "metadata": {},
   "outputs": [
    {
     "data": {
      "text/plain": [
       "b'data\\\\anchor\\\\5fd2f0c0-64f4-11ee-98c1-d8c0a6948b76.jpg'"
      ]
     },
     "execution_count": 7,
     "metadata": {},
     "output_type": "execute_result"
    }
   ],
   "source": [
    "dir_test = anchor.as_numpy_iterator()\n",
    "dir_test.next()"
   ]
  },
  {
   "cell_type": "code",
   "execution_count": 8,
   "id": "61f51f0d-6bd0-4566-b90a-30716fb5832a",
   "metadata": {},
   "outputs": [],
   "source": [
    "def preprocess(file_path):\n",
    "    byte_img = tf.io.read_file(file_path)\n",
    "    img = tf.io.decode_jpeg(byte_img)\n",
    "    img = tf.image.resize(img,(100,100))\n",
    "    img = img/255.0  #scale image to be between 0 and 1\n",
    "    return img"
   ]
  },
  {
   "cell_type": "code",
   "execution_count": 9,
   "id": "fc318e46-e1d4-490e-b918-930c38b3c36d",
   "metadata": {},
   "outputs": [
    {
     "data": {
      "text/plain": [
       "<matplotlib.image.AxesImage at 0x11b1e70b8b0>"
      ]
     },
     "execution_count": 9,
     "metadata": {},
     "output_type": "execute_result"
    },
    {
     "data": {
      "image/png": "[encoded data removed]",
      "text/plain": [
       "<Figure size 640x480 with 1 Axes>"
      ]
     },
     "metadata": {},
     "output_type": "display_data"
    }
   ],
   "source": [
    "#testing of fucntion\n",
    "ig = preprocess('data\\\\anchor\\\\694c1043-64f4-11ee-ae95-d8c0a6948b76.jpg')\n",
    "plt.imshow(ig)"
   ]
  },
  {
   "cell_type": "markdown",
   "id": "76ac4a18-b269-44d1-85da-b30a2709a190",
   "metadata": {},
   "source": [
    "# creating a labeled dataset"
   ]
  },
  {
   "cell_type": "code",
   "execution_count": 10,
   "id": "f4c94fe5-fd3a-4155-ad22-467ffd6868d8",
   "metadata": {},
   "outputs": [],
   "source": [
    "positives = tf.data.Dataset.zip((anchor,positive,tf.data.Dataset.from_tensor_slices(tf.ones(len(anchor)))))\n",
    "negatives = tf.data.Dataset.zip((anchor,negative,tf.data.Dataset.from_tensor_slices(tf.zeros(len(anchor)))))\n",
    "data = positives.concatenate(negatives)"
   ]
  },
  {
   "cell_type": "code",
   "execution_count": 11,
   "id": "750f9954-476e-44eb-88b9-28ba269fe135",
   "metadata": {},
   "outputs": [],
   "source": [
    "samples = data.as_numpy_iterator()"
   ]
  },
  {
   "cell_type": "code",
   "execution_count": 12,
   "id": "d383c539-002d-466b-bb63-e4ddbfbd22a2",
   "metadata": {},
   "outputs": [],
   "source": [
    "example = samples.next()"
   ]
  },
  {
   "cell_type": "code",
   "execution_count": 13,
   "id": "25640df9-e66c-4422-94e2-2d2a5137589a",
   "metadata": {},
   "outputs": [
    {
     "data": {
      "text/plain": [
       "(b'data\\\\anchor\\\\67441e96-64f4-11ee-a17b-d8c0a6948b76.jpg',\n",
       " b'data\\\\positive\\\\8ce037c6-64f4-11ee-a3e4-d8c0a6948b76.jpg',\n",
       " 1.0)"
      ]
     },
     "execution_count": 13,
     "metadata": {},
     "output_type": "execute_result"
    }
   ],
   "source": [
    "example"
   ]
  },
  {
   "cell_type": "markdown",
   "id": "811e6b15-b06f-4e5c-b6a0-1c2cbcb0fa8d",
   "metadata": {},
   "source": [
    "# build train and test partition"
   ]
  },
  {
   "cell_type": "code",
   "execution_count": 14,
   "id": "e27f2a43-48e2-4fc6-8359-3d821a53cbf4",
   "metadata": {},
   "outputs": [],
   "source": [
    "def preprocess_twin(input_img,validation_img,label):\n",
    "    return (preprocess(input_img),preprocess(validation_img),label)"
   ]
  },
  {
   "cell_type": "code",
   "execution_count": 15,
   "id": "75e01a2f-0788-4a37-9507-bf91e168a73b",
   "metadata": {},
   "outputs": [],
   "source": [
    "#testing the function \n",
    "res = preprocess_twin(*example)"
   ]
  },
  {
   "cell_type": "code",
   "execution_count": 16,
   "id": "b3263149-163a-433a-99b6-1d8bdab5c088",
   "metadata": {},
   "outputs": [
    {
     "name": "stdout",
     "output_type": "stream",
     "text": [
      "3\n"
     ]
    }
   ],
   "source": [
    "print(len(res))"
   ]
  },
  {
   "cell_type": "code",
   "execution_count": 17,
   "id": "106618b3-4e8d-426a-89de-2910074d1e6a",
   "metadata": {},
   "outputs": [
    {
     "name": "stdout",
     "output_type": "stream",
     "text": [
      "tf.Tensor(\n",
      "[[[0.6578431  0.60294116 0.6931372 ]\n",
      "  [0.65612745 0.6012255  0.69142157]\n",
      "  [0.6517157  0.59681374 0.6870098 ]\n",
      "  ...\n",
      "  [0.19338235 0.15612745 0.17671569]\n",
      "  [0.2622549  0.21323529 0.23970588]\n",
      "  [0.31764707 0.25490198 0.29411766]]\n",
      "\n",
      " [[0.6617647  0.6068627  0.6970588 ]\n",
      "  [0.6696078  0.61470586 0.70490193]\n",
      "  [0.6615196  0.6066176  0.6968137 ]\n",
      "  ...\n",
      "  [0.20857844 0.18210784 0.19681373]\n",
      "  [0.2502451  0.20906863 0.23112746]\n",
      "  [0.29313725 0.24215686 0.2754902 ]]\n",
      "\n",
      " [[0.6627451  0.60784316 0.69803923]\n",
      "  [0.6634804  0.60857844 0.6987745 ]\n",
      "  [0.66568625 0.6107843  0.70098037]\n",
      "  ...\n",
      "  [0.19656862 0.17671569 0.17818627]\n",
      "  [0.2254902  0.19093138 0.20416667]\n",
      "  [0.27720588 0.23210785 0.25661764]]\n",
      "\n",
      " ...\n",
      "\n",
      " [[0.13186274 0.13872549 0.1377451 ]\n",
      "  [0.11936274 0.1254902  0.12671569]\n",
      "  [0.13504902 0.13897058 0.14681372]\n",
      "  ...\n",
      "  [0.17769608 0.26568627 0.2887255 ]\n",
      "  [0.12352941 0.18627451 0.20686275]\n",
      "  [0.07867647 0.11593137 0.12401961]]\n",
      "\n",
      " [[0.12941177 0.13333334 0.14117648]\n",
      "  [0.12916666 0.13308823 0.14093137]\n",
      "  [0.1360294  0.13995098 0.14779411]\n",
      "  ...\n",
      "  [0.19166666 0.28480393 0.3122549 ]\n",
      "  [0.16176471 0.23039216 0.25784314]\n",
      "  [0.09632353 0.1377451  0.15367647]]\n",
      "\n",
      " [[0.12058824 0.13627452 0.14019608]\n",
      "  [0.13725491 0.15294118 0.15686275]\n",
      "  [0.15686275 0.17254902 0.1764706 ]\n",
      "  ...\n",
      "  [0.1764706  0.27254903 0.3009804 ]\n",
      "  [0.17524509 0.25073528 0.28014705]\n",
      "  [0.13651961 0.18553922 0.21053922]]], shape=(100, 100, 3), dtype=float32)\n",
      "tf.Tensor(\n",
      "[[[0.5973039  0.55808824 0.6639706 ]\n",
      "  [0.59142154 0.5512255  0.660049  ]\n",
      "  [0.5894608  0.55220586 0.6669118 ]\n",
      "  ...\n",
      "  [0.17622548 0.19485295 0.22132353]\n",
      "  [0.19803922 0.21078432 0.24607843]\n",
      "  [0.2375     0.2375     0.2767157 ]]\n",
      "\n",
      " [[0.5992647  0.560049   0.66593134]\n",
      "  [0.6004902  0.5602941  0.6691176 ]\n",
      "  [0.60318625 0.560049   0.67769605]\n",
      "  ...\n",
      "  [0.16642156 0.19558823 0.20955883]\n",
      "  [0.18186274 0.20220588 0.22352941]\n",
      "  [0.19191177 0.20563726 0.23014706]]\n",
      "\n",
      " [[0.6127451  0.5647059  0.6735294 ]\n",
      "  [0.60514706 0.564951   0.6737745 ]\n",
      "  [0.6127451  0.56960785 0.6872549 ]\n",
      "  ...\n",
      "  [0.15735294 0.19313726 0.20269608]\n",
      "  [0.16911764 0.19828431 0.21078432]\n",
      "  [0.1757353  0.20416667 0.21691176]]\n",
      "\n",
      " ...\n",
      "\n",
      " [[0.29485294 0.2860294  0.2634804 ]\n",
      "  [0.30514705 0.29485294 0.27450982]\n",
      "  [0.30147058 0.28382352 0.27156863]\n",
      "  ...\n",
      "  [0.20490196 0.3        0.30980393]\n",
      "  [0.26078433 0.3602941  0.36789215]\n",
      "  [0.25808823 0.34044117 0.34436274]]\n",
      "\n",
      " [[0.32083333 0.32671568 0.28651962]\n",
      "  [0.3134804  0.3127451  0.28210783]\n",
      "  [0.25245097 0.24656862 0.2262255 ]\n",
      "  ...\n",
      "  [0.18872549 0.28308824 0.29289216]\n",
      "  [0.12941177 0.22377451 0.2379902 ]\n",
      "  [0.01053922 0.08333334 0.0872549 ]]\n",
      "\n",
      " [[0.11617647 0.12401961 0.08088236]\n",
      "  [0.09901961 0.10588235 0.06568628]\n",
      "  [0.11936274 0.11740196 0.09485294]\n",
      "  ...\n",
      "  [0.16446078 0.25857842 0.26838234]\n",
      "  [0.03186275 0.1245098  0.14019608]\n",
      "  [0.         0.06838235 0.08406863]]], shape=(100, 100, 3), dtype=float32)\n",
      "1.0\n"
     ]
    }
   ],
   "source": [
    "print(res[0])\n",
    "print(res[1])\n",
    "print(res[2])"
   ]
  },
  {
   "cell_type": "code",
   "execution_count": 18,
   "id": "b7be3012-f3e4-4f2b-947e-17b50109a726",
   "metadata": {},
   "outputs": [
    {
     "data": {
      "text/plain": [
       "<matplotlib.image.AxesImage at 0x11b21c486a0>"
      ]
     },
     "execution_count": 18,
     "metadata": {},
     "output_type": "execute_result"
    },
    {
     "data": {
      "image/png": "[encoded data removed]",
      "text/plain": [
       "<Figure size 640x480 with 1 Axes>"
      ]
     },
     "metadata": {},
     "output_type": "display_data"
    }
   ],
   "source": [
    "plt.imshow(res[0])"
   ]
  },
  {
   "cell_type": "code",
   "execution_count": 19,
   "id": "cfb36005-bb45-49c9-942c-840c3c594275",
   "metadata": {},
   "outputs": [
    {
     "data": {
      "text/plain": [
       "<matplotlib.image.AxesImage at 0x11b1faf4c10>"
      ]
     },
     "execution_count": 19,
     "metadata": {},
     "output_type": "execute_result"
    },
    {
     "data": {
      "image/png": "[encoded data removed]",
      "text/plain": [
       "<Figure size 640x480 with 1 Axes>"
      ]
     },
     "metadata": {},
     "output_type": "display_data"
    }
   ],
   "source": [
    "plt.imshow(res[1])"
   ]
  },
  {
   "cell_type": "code",
   "execution_count": 20,
   "id": "aecc03b3-56ed-4b5a-b579-a57eb33f8553",
   "metadata": {},
   "outputs": [
    {
     "name": "stdout",
     "output_type": "stream",
     "text": [
      "1.0\n"
     ]
    }
   ],
   "source": [
    "print(res[2])"
   ]
  },
  {
   "cell_type": "code",
   "execution_count": 21,
   "id": "70293a35-99c1-4d7c-ac53-092129f0596b",
   "metadata": {},
   "outputs": [],
   "source": [
    "#building databuilder pipeline\n",
    "data = data.map(preprocess_twin)\n",
    "data = data.cache()\n",
    "data = data.shuffle(buffer_size=1024)"
   ]
  },
  {
   "cell_type": "code",
   "execution_count": 22,
   "id": "d7824190-bdfa-423a-989e-d487cdb265ab",
   "metadata": {},
   "outputs": [
    {
     "data": {
      "text/plain": [
       "<_ShuffleDataset element_spec=(TensorSpec(shape=(100, 100, None), dtype=tf.float32, name=None), TensorSpec(shape=(100, 100, None), dtype=tf.float32, name=None), TensorSpec(shape=(), dtype=tf.float32, name=None))>"
      ]
     },
     "execution_count": 22,
     "metadata": {},
     "output_type": "execute_result"
    }
   ],
   "source": [
    "data"
   ]
  },
  {
   "cell_type": "code",
   "execution_count": 23,
   "id": "e863d4c1-d3d0-4f57-9de0-3a68ad183f08",
   "metadata": {},
   "outputs": [],
   "source": [
    "sampless = data.as_numpy_iterator()\n"
   ]
  },
  {
   "cell_type": "code",
   "execution_count": 24,
   "id": "00148e33-64e3-4e62-96fb-2216f146cde8",
   "metadata": {},
   "outputs": [
    {
     "data": {
      "text/plain": [
       "(array([[[0.65882355, 0.6117647 , 0.69803923],\n",
       "         [0.6546569 , 0.60759807, 0.6938726 ],\n",
       "         [0.6718137 , 0.6247549 , 0.7110294 ],\n",
       "         ...,\n",
       "         [0.14607844, 0.14117648, 0.1637255 ],\n",
       "         [0.10759804, 0.0997549 , 0.11936274],\n",
       "         [0.11470588, 0.09509804, 0.11078431]],\n",
       " \n",
       "        [[0.64509803, 0.5901961 , 0.68039215],\n",
       "         [0.6605392 , 0.6046569 , 0.69485295],\n",
       "         [0.6816176 , 0.6279412 , 0.71004903],\n",
       "         ...,\n",
       "         [0.14754902, 0.14313726, 0.1620098 ],\n",
       "         [0.11813726, 0.11078431, 0.12377451],\n",
       "         [0.11470588, 0.10686275, 0.11862745]],\n",
       " \n",
       "        [[0.65882355, 0.6039216 , 0.69411767],\n",
       "         [0.65588236, 0.6       , 0.6901961 ],\n",
       "         [0.6671569 , 0.60906863, 0.69779414],\n",
       "         ...,\n",
       "         [0.14828432, 0.14754902, 0.15759803],\n",
       "         [0.11960784, 0.11813726, 0.12230392],\n",
       "         [0.11764706, 0.10980392, 0.11568628]],\n",
       " \n",
       "        ...,\n",
       " \n",
       "        [[0.14215687, 0.14215687, 0.14411765],\n",
       "         [0.12352941, 0.13039216, 0.12941177],\n",
       "         [0.12034313, 0.12720588, 0.12622549],\n",
       "         ...,\n",
       "         [0.16887255, 0.25196078, 0.25931373],\n",
       "         [0.18431373, 0.25588235, 0.26715687],\n",
       "         [0.0625    , 0.10465686, 0.1125    ]],\n",
       " \n",
       "        [[0.1392157 , 0.14215687, 0.15588236],\n",
       "         [0.12745099, 0.13137256, 0.14509805],\n",
       "         [0.1384804 , 0.14240196, 0.15612745],\n",
       "         ...,\n",
       "         [0.1764706 , 0.2742647 , 0.28161764],\n",
       "         [0.20882353, 0.28235295, 0.29852942],\n",
       "         [0.1732843 , 0.21617647, 0.23137255]],\n",
       " \n",
       "        [[0.13431373, 0.1382353 , 0.15392157],\n",
       "         [0.13406862, 0.13799019, 0.15367647],\n",
       "         [0.15171568, 0.16446078, 0.17720588],\n",
       "         ...,\n",
       "         [0.18357843, 0.28357843, 0.2904412 ],\n",
       "         [0.18382353, 0.26102942, 0.28333333],\n",
       "         [0.18088235, 0.2365196 , 0.2497549 ]]], dtype=float32),\n",
       " array([[[0.        , 0.00392157, 0.        ],\n",
       "         [0.        , 0.00392157, 0.        ],\n",
       "         [0.        , 0.00392157, 0.        ],\n",
       "         ...,\n",
       "         [0.        , 0.00220588, 0.        ],\n",
       "         [0.        , 0.        , 0.        ],\n",
       "         [0.        , 0.        , 0.        ]],\n",
       " \n",
       "        [[0.        , 0.00294118, 0.        ],\n",
       "         [0.        , 0.00294118, 0.        ],\n",
       "         [0.        , 0.00294118, 0.        ],\n",
       "         ...,\n",
       "         [0.        , 0.00784314, 0.        ],\n",
       "         [0.        , 0.00563726, 0.        ],\n",
       "         [0.        , 0.00490196, 0.        ]],\n",
       " \n",
       "        [[0.        , 0.        , 0.        ],\n",
       "         [0.        , 0.        , 0.        ],\n",
       "         [0.        , 0.        , 0.        ],\n",
       "         ...,\n",
       "         [0.        , 0.00392157, 0.        ],\n",
       "         [0.        , 0.00196078, 0.        ],\n",
       "         [0.        , 0.00196078, 0.        ]],\n",
       " \n",
       "        ...,\n",
       " \n",
       "        [[0.15882353, 0.07254902, 0.08039216],\n",
       "         [0.16985294, 0.07156863, 0.08333334],\n",
       "         [0.1637255 , 0.0625    , 0.07426471],\n",
       "         ...,\n",
       "         [0.13627452, 0.07058824, 0.08333334],\n",
       "         [0.15294118, 0.07254902, 0.09117647],\n",
       "         [0.15784314, 0.06764706, 0.09117647]],\n",
       " \n",
       "        [[0.15490197, 0.05980392, 0.07058824],\n",
       "         [0.15784314, 0.05882353, 0.07058824],\n",
       "         [0.15294118, 0.05098039, 0.0627451 ],\n",
       "         ...,\n",
       "         [0.1375    , 0.07181372, 0.08455882],\n",
       "         [0.1509804 , 0.07058824, 0.08921569],\n",
       "         [0.15980393, 0.06960785, 0.09313726]],\n",
       " \n",
       "        [[0.16078432, 0.0627451 , 0.07450981],\n",
       "         [0.15784314, 0.05882353, 0.07058824],\n",
       "         [0.1627451 , 0.05196078, 0.06666667],\n",
       "         ...,\n",
       "         [0.1627451 , 0.0872549 , 0.09509804],\n",
       "         [0.1754902 , 0.09117647, 0.10196079],\n",
       "         [0.18431373, 0.09803922, 0.10980392]]], dtype=float32),\n",
       " 0.0)"
      ]
     },
     "execution_count": 24,
     "metadata": {},
     "output_type": "execute_result"
    }
   ],
   "source": [
    "sampless.next()"
   ]
  },
  {
   "cell_type": "code",
   "execution_count": 25,
   "id": "2f328074-333c-45e5-9f31-bbb53ceebe15",
   "metadata": {},
   "outputs": [
    {
     "data": {
      "text/plain": [
       "3"
      ]
     },
     "execution_count": 25,
     "metadata": {},
     "output_type": "execute_result"
    }
   ],
   "source": [
    "len(sampless.next())"
   ]
  },
  {
   "cell_type": "code",
   "execution_count": 26,
   "id": "01d00238-eaa9-438b-ab7f-403b479e08ca",
   "metadata": {},
   "outputs": [
    {
     "data": {
      "text/plain": [
       "<matplotlib.image.AxesImage at 0x11b1fbc40a0>"
      ]
     },
     "execution_count": 26,
     "metadata": {},
     "output_type": "execute_result"
    },
    {
     "data": {
      "image/png": "[encoded data removed]",
      "text/plain": [
       "<Figure size 640x480 with 1 Axes>"
      ]
     },
     "metadata": {},
     "output_type": "display_data"
    }
   ],
   "source": [
    "plt.imshow(sampless.next()[0])"
   ]
  },
  {
   "cell_type": "code",
   "execution_count": 27,
   "id": "8f8d4869-e1b0-441a-9058-90d63dea782d",
   "metadata": {},
   "outputs": [
    {
     "data": {
      "text/plain": [
       "<matplotlib.image.AxesImage at 0x11b21cd5af0>"
      ]
     },
     "execution_count": 27,
     "metadata": {},
     "output_type": "execute_result"
    },
    {
     "data": {
      "image/png": "[encoded data removed]",
      "text/plain": [
       "<Figure size 640x480 with 1 Axes>"
      ]
     },
     "metadata": {},
     "output_type": "display_data"
    }
   ],
   "source": [
    "plt.imshow(sampless.next()[1])"
   ]
  },
  {
   "cell_type": "code",
   "execution_count": 28,
   "id": "3556b2d1-7bb3-48af-81f0-7412e4fe0096",
   "metadata": {},
   "outputs": [
    {
     "name": "stdout",
     "output_type": "stream",
     "text": [
      "1.0\n"
     ]
    }
   ],
   "source": [
    "print(sampless.next()[2])"
   ]
  },
  {
   "cell_type": "markdown",
   "id": "51bedbb8-00a7-461c-9360-c9ac96eec2de",
   "metadata": {},
   "source": [
    "### training partition"
   ]
  },
  {
   "cell_type": "code",
   "execution_count": 29,
   "id": "dc29c56e-ef42-41d0-b284-f7592089eddd",
   "metadata": {},
   "outputs": [],
   "source": [
    "train_data = data.take(round(len(data)*.7))\n",
    "train_data = train_data.batch(16)\n",
    "tarin_data = train_data.prefetch(8)"
   ]
  },
  {
   "cell_type": "code",
   "execution_count": 30,
   "id": "3034d446-28ef-43f4-aa8e-71b7a7921b00",
   "metadata": {},
   "outputs": [
    {
     "data": {
      "text/plain": [
       "<_BatchDataset element_spec=(TensorSpec(shape=(None, 100, 100, None), dtype=tf.float32, name=None), TensorSpec(shape=(None, 100, 100, None), dtype=tf.float32, name=None), TensorSpec(shape=(None,), dtype=tf.float32, name=None))>"
      ]
     },
     "execution_count": 30,
     "metadata": {},
     "output_type": "execute_result"
    }
   ],
   "source": [
    "train_data"
   ]
  },
  {
   "cell_type": "code",
   "execution_count": 31,
   "id": "0d130d57-77ad-4ec4-a256-239070e51205",
   "metadata": {},
   "outputs": [],
   "source": [
    "train_samples = train_data.as_numpy_iterator()"
   ]
  },
  {
   "cell_type": "code",
   "execution_count": 32,
   "id": "88584b0a-9f0f-4138-8243-c67c687b46ec",
   "metadata": {},
   "outputs": [],
   "source": [
    "train_sample = train_samples.next()"
   ]
  },
  {
   "cell_type": "code",
   "execution_count": 33,
   "id": "480b3a0e-2ee1-42cf-a288-3d79fb66a14c",
   "metadata": {},
   "outputs": [
    {
     "data": {
      "text/plain": [
       "(array([[[[0.6041667 , 0.5531863 , 0.63161767],\n",
       "          [0.6120098 , 0.56102943, 0.6394608 ],\n",
       "          [0.6242647 , 0.56740195, 0.6487745 ],\n",
       "          ...,\n",
       "          [0.15637255, 0.15833333, 0.175     ],\n",
       "          [0.19877452, 0.19191177, 0.21151961],\n",
       "          [0.23137255, 0.20980392, 0.23431373]],\n",
       " \n",
       "         [[0.6186274 , 0.55784315, 0.63235295],\n",
       "          [0.6156863 , 0.55490196, 0.63529414],\n",
       "          [0.622549  , 0.56102943, 0.64362746],\n",
       "          ...,\n",
       "          [0.1242647 , 0.1384804 , 0.1509804 ],\n",
       "          [0.14754902, 0.14779411, 0.16544117],\n",
       "          [0.17769608, 0.17083333, 0.19044118]],\n",
       " \n",
       "         [[0.63235295, 0.5598039 , 0.6372549 ],\n",
       "          [0.6490196 , 0.5764706 , 0.65392154],\n",
       "          [0.6497549 , 0.5764706 , 0.65612745],\n",
       "          ...,\n",
       "          [0.10098039, 0.12181372, 0.1254902 ],\n",
       "          [0.1264706 , 0.13333334, 0.14215687],\n",
       "          [0.15686275, 0.15294118, 0.17254902]],\n",
       " \n",
       "         ...,\n",
       " \n",
       "         [[0.34411764, 0.3254902 , 0.2990196 ],\n",
       "          [0.33872548, 0.32009804, 0.29362744],\n",
       "          [0.33970588, 0.32107842, 0.29460785],\n",
       "          ...,\n",
       "          [0.12818627, 0.11348039, 0.08210784],\n",
       "          [0.11078431, 0.10490196, 0.0882353 ],\n",
       "          [0.12622549, 0.13014705, 0.12254902]],\n",
       " \n",
       "         [[0.36078432, 0.34509805, 0.30980393],\n",
       "          [0.34877452, 0.33308825, 0.2977941 ],\n",
       "          [0.35857844, 0.34509805, 0.30980393],\n",
       "          ...,\n",
       "          [0.13039216, 0.11568628, 0.08431373],\n",
       "          [0.10294118, 0.10196079, 0.09117647],\n",
       "          [0.09852941, 0.11568628, 0.1125    ]],\n",
       " \n",
       "         [[0.35955882, 0.34387255, 0.3007353 ],\n",
       "          [0.34705883, 0.33137256, 0.2882353 ],\n",
       "          [0.34730393, 0.3375    , 0.29142156],\n",
       "          ...,\n",
       "          [0.11838235, 0.11078431, 0.08480392],\n",
       "          [0.09460784, 0.10171568, 0.08799019],\n",
       "          [0.1264706 , 0.15294118, 0.15196079]]],\n",
       " \n",
       " \n",
       "        [[[0.65318626, 0.58259803, 0.6767157 ],\n",
       "          [0.65955883, 0.5889706 , 0.6811274 ],\n",
       "          [0.66544116, 0.5948529 , 0.6811274 ],\n",
       "          ...,\n",
       "          [0.2872549 , 0.24803922, 0.27941176],\n",
       "          [0.3372549 , 0.29509804, 0.32647058],\n",
       "          [0.3617647 , 0.3107843 , 0.34607843]],\n",
       " \n",
       "         [[0.6453431 , 0.5776961 , 0.67083335],\n",
       "          [0.6519608 , 0.59313726, 0.6813725 ],\n",
       "          [0.65661764, 0.5977941 , 0.68014705],\n",
       "          ...,\n",
       "          [0.27083334, 0.24142157, 0.26691177],\n",
       "          [0.32254902, 0.28063726, 0.30980393],\n",
       "          [0.36053923, 0.30759802, 0.3409314 ]],\n",
       " \n",
       "         [[0.6431373 , 0.58431375, 0.6745098 ],\n",
       "          [0.6519608 , 0.59313726, 0.6813725 ],\n",
       "          [0.6617647 , 0.60294116, 0.6852941 ],\n",
       "          ...,\n",
       "          [0.25      , 0.22352941, 0.24019608],\n",
       "          [0.3139706 , 0.27279413, 0.29534313],\n",
       "          [0.35882354, 0.3       , 0.327451  ]],\n",
       " \n",
       "         ...,\n",
       " \n",
       "         [[0.14387254, 0.14779411, 0.1252451 ],\n",
       "          [0.13039216, 0.13455883, 0.11544117],\n",
       "          [0.12083333, 0.12794118, 0.11617647],\n",
       "          ...,\n",
       "          [0.19215687, 0.27941176, 0.30392158],\n",
       "          [0.16519608, 0.23382352, 0.2602941 ],\n",
       "          [0.07720588, 0.11960784, 0.13333334]],\n",
       " \n",
       "         [[0.13431373, 0.13529412, 0.1245098 ],\n",
       "          [0.12696078, 0.13406862, 0.12230392],\n",
       "          [0.14656863, 0.15882353, 0.15441176],\n",
       "          ...,\n",
       "          [0.17892157, 0.275     , 0.29558823],\n",
       "          [0.17941177, 0.25588235, 0.2784314 ],\n",
       "          [0.12377451, 0.1757353 , 0.18651961]],\n",
       " \n",
       "         [[0.11789215, 0.1257353 , 0.12181372],\n",
       "          [0.12058824, 0.12843138, 0.1245098 ],\n",
       "          [0.1382353 , 0.15196079, 0.15392157],\n",
       "          ...,\n",
       "          [0.1747549 , 0.27303922, 0.29289216],\n",
       "          [0.17892157, 0.25612745, 0.2784314 ],\n",
       "          [0.13946079, 0.19509804, 0.20686275]]],\n",
       " \n",
       " \n",
       "        [[[0.6333333 , 0.5509804 , 0.6098039 ],\n",
       "          [0.63529414, 0.5529412 , 0.6137255 ],\n",
       "          [0.64142156, 0.5590686 , 0.6257353 ],\n",
       "          ...,\n",
       "          [0.1620098 , 0.13357843, 0.16789216],\n",
       "          [0.2485294 , 0.21715686, 0.26617646],\n",
       "          [0.29313725, 0.2617647 , 0.32058823]],\n",
       " \n",
       "         [[0.63014704, 0.5477941 , 0.60857844],\n",
       "          [0.64117646, 0.5588235 , 0.62107843],\n",
       "          [0.6507353 , 0.5683824 , 0.63504905],\n",
       "          ...,\n",
       "          [0.1497549 , 0.12818627, 0.15196079],\n",
       "          [0.17843138, 0.1487745 , 0.18651961],\n",
       "          [0.20392157, 0.17058824, 0.21176471]],\n",
       " \n",
       "         [[0.6362745 , 0.5539216 , 0.62058824],\n",
       "          [0.64730394, 0.564951  , 0.63161767],\n",
       "          [0.6517157 , 0.56936276, 0.6360294 ],\n",
       "          ...,\n",
       "          [0.1382353 , 0.12132353, 0.12818627],\n",
       "          [0.15906863, 0.13529412, 0.15392157],\n",
       "          [0.1629902 , 0.13259804, 0.1620098 ]],\n",
       " \n",
       "         ...,\n",
       " \n",
       "         [[0.33578432, 0.3004902 , 0.27892157],\n",
       "          [0.34313726, 0.30637255, 0.2840686 ],\n",
       "          [0.33872548, 0.297549  , 0.27303922],\n",
       "          ...,\n",
       "          [0.13039216, 0.09509804, 0.06372549],\n",
       "          [0.14534314, 0.11519608, 0.09338235],\n",
       "          [0.1627451 , 0.14313726, 0.12745099]],\n",
       " \n",
       "         [[0.36691177, 0.33161765, 0.30416667],\n",
       "          [0.35882354, 0.32352942, 0.2901961 ],\n",
       "          [0.36642158, 0.33112746, 0.2977941 ],\n",
       "          ...,\n",
       "          [0.14019608, 0.10490196, 0.07941177],\n",
       "          [0.13210784, 0.0997549 , 0.08602941],\n",
       "          [0.14142157, 0.12181372, 0.10906862]],\n",
       " \n",
       "         [[0.3617647 , 0.32647058, 0.29117647],\n",
       "          [0.36617646, 0.33088234, 0.29558823],\n",
       "          [0.36078432, 0.3254902 , 0.2901961 ],\n",
       "          ...,\n",
       "          [0.14142157, 0.10612745, 0.08063725],\n",
       "          [0.1382353 , 0.10588235, 0.09215686],\n",
       "          [0.14607844, 0.1264706 , 0.11470588]]],\n",
       " \n",
       " \n",
       "        ...,\n",
       " \n",
       " \n",
       "        [[[0.6639706 , 0.5894608 , 0.6757353 ],\n",
       "          [0.66764706, 0.59411764, 0.68039215],\n",
       "          [0.6509804 , 0.5803922 , 0.6666667 ],\n",
       "          ...,\n",
       "          [0.09289216, 0.11446078, 0.11544117],\n",
       "          [0.09877451, 0.11446078, 0.11838235],\n",
       "          [0.12254902, 0.1264706 , 0.13431373]],\n",
       " \n",
       "         [[0.6647059 , 0.5901961 , 0.6764706 ],\n",
       "          [0.6598039 , 0.5862745 , 0.672549  ],\n",
       "          [0.64705884, 0.5764706 , 0.6627451 ],\n",
       "          ...,\n",
       "          [0.08333334, 0.09607843, 0.10098039],\n",
       "          [0.09583333, 0.10196079, 0.10906862],\n",
       "          [0.10196079, 0.10490196, 0.1127451 ]],\n",
       " \n",
       "         [[0.6480392 , 0.5735294 , 0.6598039 ],\n",
       "          [0.6509804 , 0.577451  , 0.6637255 ],\n",
       "          [0.65      , 0.57941175, 0.66568625],\n",
       "          ...,\n",
       "          [0.12181372, 0.12279411, 0.13063726],\n",
       "          [0.1127451 , 0.11372549, 0.12156863],\n",
       "          [0.10416666, 0.10416666, 0.1120098 ]],\n",
       " \n",
       "         ...,\n",
       " \n",
       "         [[0.11446078, 0.13799019, 0.13799019],\n",
       "          [0.15147059, 0.17352942, 0.1742647 ],\n",
       "          [0.14191176, 0.15808824, 0.16176471],\n",
       "          ...,\n",
       "          [0.04754902, 0.10539216, 0.12303922],\n",
       "          [0.04656863, 0.08088236, 0.08872549],\n",
       "          [0.04485294, 0.06446078, 0.08014706]],\n",
       " \n",
       "         [[0.11544117, 0.14779411, 0.14485294],\n",
       "          [0.13553922, 0.16789216, 0.16495098],\n",
       "          [0.11348039, 0.1377451 , 0.1377451 ],\n",
       "          ...,\n",
       "          [0.10686275, 0.16470589, 0.18235295],\n",
       "          [0.06446078, 0.09877451, 0.10661764],\n",
       "          [0.04411765, 0.07254902, 0.08529412]],\n",
       " \n",
       "         [[0.1254902 , 0.15686275, 0.16470589],\n",
       "          [0.12156863, 0.15294118, 0.16078432],\n",
       "          [0.09901961, 0.13039216, 0.1382353 ],\n",
       "          ...,\n",
       "          [0.1509804 , 0.20588236, 0.21862745],\n",
       "          [0.07745098, 0.11176471, 0.11960784],\n",
       "          [0.05882353, 0.09019608, 0.09803922]]],\n",
       " \n",
       " \n",
       "        [[[0.6629902 , 0.59632355, 0.67083335],\n",
       "          [0.6580882 , 0.59338236, 0.66789216],\n",
       "          [0.6460784 , 0.5872549 , 0.66764706],\n",
       "          ...,\n",
       "          [0.28088236, 0.24362744, 0.26421568],\n",
       "          [0.35490197, 0.3       , 0.32647058],\n",
       "          [0.3872549 , 0.32058823, 0.35196078]],\n",
       " \n",
       "         [[0.6647059 , 0.5980392 , 0.672549  ],\n",
       "          [0.6644608 , 0.59607846, 0.6757353 ],\n",
       "          [0.6526961 , 0.59093136, 0.6742647 ],\n",
       "          ...,\n",
       "          [0.2723039 , 0.24387255, 0.25955883],\n",
       "          [0.33112746, 0.28284314, 0.30661765],\n",
       "          [0.36887255, 0.30416667, 0.33259803]],\n",
       " \n",
       "         [[0.65661764, 0.5870098 , 0.67034316],\n",
       "          [0.6578431 , 0.5872549 , 0.6735294 ],\n",
       "          [0.6487745 , 0.5870098 , 0.67034316],\n",
       "          ...,\n",
       "          [0.25220588, 0.22573529, 0.23455882],\n",
       "          [0.29117647, 0.24877451, 0.2637255 ],\n",
       "          [0.34411764, 0.29411766, 0.3107843 ]],\n",
       " \n",
       "         ...,\n",
       " \n",
       "         [[0.13553922, 0.13553922, 0.13553922],\n",
       "          [0.12867647, 0.13112745, 0.13235295],\n",
       "          [0.09877451, 0.1122549 , 0.11495098],\n",
       "          ...,\n",
       "          [0.19117647, 0.26666668, 0.29411766],\n",
       "          [0.1860294 , 0.24730392, 0.2754902 ],\n",
       "          [0.07230392, 0.11348039, 0.1360294 ]],\n",
       " \n",
       "         [[0.14681372, 0.14681372, 0.15269607],\n",
       "          [0.11740196, 0.12132353, 0.12916666],\n",
       "          [0.10710784, 0.11985294, 0.12916666],\n",
       "          ...,\n",
       "          [0.19362745, 0.2875    , 0.30906862],\n",
       "          [0.18921569, 0.25882354, 0.28627452],\n",
       "          [0.1367647 , 0.17941177, 0.20122549]],\n",
       " \n",
       "         [[0.14191176, 0.14583333, 0.15367647],\n",
       "          [0.11862745, 0.1254902 , 0.13431373],\n",
       "          [0.10686275, 0.12254902, 0.13431373],\n",
       "          ...,\n",
       "          [0.17843138, 0.27450982, 0.30294117],\n",
       "          [0.1757353 , 0.2512255 , 0.2764706 ],\n",
       "          [0.1509804 , 0.2       , 0.22156863]]],\n",
       " \n",
       " \n",
       "        [[[0.6041667 , 0.5531863 , 0.63161767],\n",
       "          [0.6120098 , 0.56102943, 0.6394608 ],\n",
       "          [0.6242647 , 0.56740195, 0.6487745 ],\n",
       "          ...,\n",
       "          [0.15637255, 0.15833333, 0.175     ],\n",
       "          [0.19877452, 0.19191177, 0.21151961],\n",
       "          [0.23137255, 0.20980392, 0.23431373]],\n",
       " \n",
       "         [[0.6186274 , 0.55784315, 0.63235295],\n",
       "          [0.6156863 , 0.55490196, 0.63529414],\n",
       "          [0.622549  , 0.56102943, 0.64362746],\n",
       "          ...,\n",
       "          [0.1242647 , 0.1384804 , 0.1509804 ],\n",
       "          [0.14754902, 0.14779411, 0.16544117],\n",
       "          [0.17769608, 0.17083333, 0.19044118]],\n",
       " \n",
       "         [[0.63235295, 0.5598039 , 0.6372549 ],\n",
       "          [0.6490196 , 0.5764706 , 0.65392154],\n",
       "          [0.6497549 , 0.5764706 , 0.65612745],\n",
       "          ...,\n",
       "          [0.10098039, 0.12181372, 0.1254902 ],\n",
       "          [0.1264706 , 0.13333334, 0.14215687],\n",
       "          [0.15686275, 0.15294118, 0.17254902]],\n",
       " \n",
       "         ...,\n",
       " \n",
       "         [[0.34411764, 0.3254902 , 0.2990196 ],\n",
       "          [0.33872548, 0.32009804, 0.29362744],\n",
       "          [0.33970588, 0.32107842, 0.29460785],\n",
       "          ...,\n",
       "          [0.12818627, 0.11348039, 0.08210784],\n",
       "          [0.11078431, 0.10490196, 0.0882353 ],\n",
       "          [0.12622549, 0.13014705, 0.12254902]],\n",
       " \n",
       "         [[0.36078432, 0.34509805, 0.30980393],\n",
       "          [0.34877452, 0.33308825, 0.2977941 ],\n",
       "          [0.35857844, 0.34509805, 0.30980393],\n",
       "          ...,\n",
       "          [0.13039216, 0.11568628, 0.08431373],\n",
       "          [0.10294118, 0.10196079, 0.09117647],\n",
       "          [0.09852941, 0.11568628, 0.1125    ]],\n",
       " \n",
       "         [[0.35955882, 0.34387255, 0.3007353 ],\n",
       "          [0.34705883, 0.33137256, 0.2882353 ],\n",
       "          [0.34730393, 0.3375    , 0.29142156],\n",
       "          ...,\n",
       "          [0.11838235, 0.11078431, 0.08480392],\n",
       "          [0.09460784, 0.10171568, 0.08799019],\n",
       "          [0.1264706 , 0.15294118, 0.15196079]]]], dtype=float32),\n",
       " array([[[[0.00000000e+00, 0.00000000e+00, 0.00000000e+00],\n",
       "          [0.00000000e+00, 0.00000000e+00, 0.00000000e+00],\n",
       "          [0.00000000e+00, 0.00000000e+00, 0.00000000e+00],\n",
       "          ...,\n",
       "          [0.00000000e+00, 0.00000000e+00, 0.00000000e+00],\n",
       "          [0.00000000e+00, 0.00000000e+00, 0.00000000e+00],\n",
       "          [0.00000000e+00, 0.00000000e+00, 0.00000000e+00]],\n",
       " \n",
       "         [[0.00000000e+00, 0.00000000e+00, 0.00000000e+00],\n",
       "          [0.00000000e+00, 0.00000000e+00, 0.00000000e+00],\n",
       "          [0.00000000e+00, 0.00000000e+00, 0.00000000e+00],\n",
       "          ...,\n",
       "          [0.00000000e+00, 0.00000000e+00, 0.00000000e+00],\n",
       "          [0.00000000e+00, 0.00000000e+00, 0.00000000e+00],\n",
       "          [0.00000000e+00, 0.00000000e+00, 0.00000000e+00]],\n",
       " \n",
       "         [[0.00000000e+00, 0.00000000e+00, 0.00000000e+00],\n",
       "          [0.00000000e+00, 0.00000000e+00, 0.00000000e+00],\n",
       "          [0.00000000e+00, 0.00000000e+00, 0.00000000e+00],\n",
       "          ...,\n",
       "          [0.00000000e+00, 0.00000000e+00, 0.00000000e+00],\n",
       "          [0.00000000e+00, 0.00000000e+00, 0.00000000e+00],\n",
       "          [0.00000000e+00, 0.00000000e+00, 0.00000000e+00]],\n",
       " \n",
       "         ...,\n",
       " \n",
       "         [[5.69852948e-01, 4.80637252e-01, 2.56372541e-01],\n",
       "          [5.57352960e-01, 4.68137264e-01, 2.43137255e-01],\n",
       "          [5.91176450e-01, 5.12254894e-01, 2.85539210e-01],\n",
       "          ...,\n",
       "          [8.37254882e-01, 9.11764681e-01, 9.15441155e-01],\n",
       "          [7.28921592e-01, 7.92401969e-01, 8.33088219e-01],\n",
       "          [6.27941191e-01, 8.02696049e-01, 7.27696061e-01]],\n",
       " \n",
       "         [[4.65686262e-01, 3.57843131e-01, 1.69607848e-01],\n",
       "          [5.79411745e-01, 4.73284304e-01, 2.69117653e-01],\n",
       "          [6.06862724e-01, 5.05147040e-01, 2.83088237e-01],\n",
       "          ...,\n",
       "          [6.49264693e-01, 7.09068656e-01, 6.55637264e-01],\n",
       "          [7.94362724e-01, 8.02205861e-01, 8.00000012e-01],\n",
       "          [6.54411793e-01, 7.40686297e-01, 6.50245070e-01]],\n",
       " \n",
       "         [[4.53431368e-01, 3.27696085e-01, 1.77205876e-01],\n",
       "          [4.46078420e-01, 3.21813732e-01, 1.50980398e-01],\n",
       "          [5.30882359e-01, 4.03921574e-01, 2.10049018e-01],\n",
       "          ...,\n",
       "          [4.69852954e-01, 4.92401958e-01, 4.20343131e-01],\n",
       "          [8.92156839e-01, 8.38725507e-01, 8.20343137e-01],\n",
       "          [5.72549045e-01, 5.76715708e-01, 5.00735283e-01]]],\n",
       " \n",
       " \n",
       "        [[[0.00000000e+00, 3.92156886e-03, 0.00000000e+00],\n",
       "          [0.00000000e+00, 3.92156886e-03, 0.00000000e+00],\n",
       "          [0.00000000e+00, 3.92156886e-03, 0.00000000e+00],\n",
       "          ...,\n",
       "          [1.51960785e-02, 2.45098054e-04, 0.00000000e+00],\n",
       "          [1.51960785e-02, 3.92156886e-03, 0.00000000e+00],\n",
       "          [2.94117653e-03, 0.00000000e+00, 5.63725503e-03]],\n",
       " \n",
       "         [[1.29901962e-02, 1.69117656e-02, 0.00000000e+00],\n",
       "          [1.96078438e-02, 2.35294122e-02, 3.67647060e-03],\n",
       "          [2.54901964e-02, 2.94117648e-02, 8.82352982e-03],\n",
       "          ...,\n",
       "          [2.31372550e-01, 2.09803924e-01, 1.21813722e-01],\n",
       "          [2.26715684e-01, 2.08578438e-01, 1.12990193e-01],\n",
       "          [4.65686293e-03, 0.00000000e+00, 0.00000000e+00]],\n",
       " \n",
       "         [[1.37254903e-02, 1.76470596e-02, 0.00000000e+00],\n",
       "          [2.25490201e-02, 2.64705885e-02, 0.00000000e+00],\n",
       "          [2.54901964e-02, 2.94117648e-02, 7.35294132e-04],\n",
       "          ...,\n",
       "          [2.42156863e-01, 2.09803924e-01, 8.52941200e-02],\n",
       "          [2.28186280e-01, 2.07598045e-01, 8.01470578e-02],\n",
       "          [9.80392192e-03, 0.00000000e+00, 0.00000000e+00]],\n",
       " \n",
       "         ...,\n",
       " \n",
       "         [[1.66666675e-02, 2.05882359e-02, 9.80392215e-04],\n",
       "          [1.83823537e-02, 2.23039221e-02, 2.94117653e-03],\n",
       "          [2.45098048e-03, 6.37254911e-03, 0.00000000e+00],\n",
       "          ...,\n",
       "          [1.83333337e-01, 1.86274514e-01, 7.69607872e-02],\n",
       "          [1.52696073e-01, 1.61519602e-01, 7.03431368e-02],\n",
       "          [0.00000000e+00, 6.86274515e-03, 0.00000000e+00]],\n",
       " \n",
       "         [[1.29901962e-02, 1.69117656e-02, 9.80392215e-04],\n",
       "          [1.07843140e-02, 1.47058824e-02, 0.00000000e+00],\n",
       "          [5.39215701e-03, 9.31372587e-03, 0.00000000e+00],\n",
       "          ...,\n",
       "          [1.77450985e-01, 1.80392161e-01, 7.69607872e-02],\n",
       "          [1.48284316e-01, 1.56372547e-01, 6.96078464e-02],\n",
       "          [0.00000000e+00, 6.86274515e-03, 0.00000000e+00]],\n",
       " \n",
       "         [[3.92156886e-03, 7.84313772e-03, 0.00000000e+00],\n",
       "          [1.27450982e-02, 1.66666675e-02, 0.00000000e+00],\n",
       "          [1.96078438e-02, 2.35294122e-02, 3.92156886e-03],\n",
       "          ...,\n",
       "          [1.72549024e-01, 1.75490201e-01, 7.84313753e-02],\n",
       "          [1.44117653e-01, 1.51960790e-01, 6.66666701e-02],\n",
       "          [0.00000000e+00, 3.92156886e-03, 0.00000000e+00]]],\n",
       " \n",
       " \n",
       "        [[[2.24754900e-01, 3.26715678e-01, 4.16911751e-01],\n",
       "          [2.12745100e-01, 3.25490206e-01, 4.10784304e-01],\n",
       "          [2.07843140e-01, 3.29411775e-01, 4.08823520e-01],\n",
       "          ...,\n",
       "          [2.19607845e-01, 3.38235289e-01, 4.29411769e-01],\n",
       "          [2.00735301e-01, 3.22303921e-01, 4.04656857e-01],\n",
       "          [2.12500006e-01, 3.22303921e-01, 4.08578426e-01]],\n",
       " \n",
       "         [[2.26470590e-01, 3.28431368e-01, 4.18627441e-01],\n",
       "          [2.13725492e-01, 3.26470584e-01, 4.11764711e-01],\n",
       "          [2.09558830e-01, 3.31127465e-01, 4.10539210e-01],\n",
       "          ...,\n",
       "          [2.21323535e-01, 3.42892170e-01, 4.24264699e-01],\n",
       "          [2.05392152e-01, 3.24754894e-01, 4.06862736e-01],\n",
       "          [2.14950979e-01, 3.24999988e-01, 4.06617641e-01]],\n",
       " \n",
       "         [[2.30147064e-01, 3.32107842e-01, 4.22303915e-01],\n",
       "          [2.16666669e-01, 3.29411775e-01, 4.14705873e-01],\n",
       "          [2.11764708e-01, 3.33333343e-01, 4.12745088e-01],\n",
       "          ...,\n",
       "          [2.19117641e-01, 3.39215696e-01, 4.11764711e-01],\n",
       "          [2.05147058e-01, 3.18627447e-01, 3.91911775e-01],\n",
       "          [2.11764708e-01, 3.25490206e-01, 3.96078438e-01]],\n",
       " \n",
       "         ...,\n",
       " \n",
       "         [[1.34313732e-01, 1.82352945e-01, 1.63725495e-01],\n",
       "          [1.53186277e-01, 1.96323529e-01, 1.64950982e-01],\n",
       "          [1.62499994e-01, 2.09313720e-01, 1.66176468e-01],\n",
       "          ...,\n",
       "          [1.18382350e-01, 1.67401955e-01, 1.33088231e-01],\n",
       "          [8.03921595e-02, 1.23529412e-01, 9.21568647e-02],\n",
       "          [5.41666672e-02, 9.73039195e-02, 6.59313723e-02]],\n",
       " \n",
       "         [[1.16421565e-01, 1.67401955e-01, 1.29166663e-01],\n",
       "          [1.22303918e-01, 1.69852942e-01, 1.36274517e-01],\n",
       "          [1.56127453e-01, 1.99264705e-01, 1.73774511e-01],\n",
       "          ...,\n",
       "          [9.70588252e-02, 1.46078438e-01, 1.11764707e-01],\n",
       "          [7.10784346e-02, 1.14215687e-01, 8.28431398e-02],\n",
       "          [7.32843131e-02, 1.16421565e-01, 8.50490183e-02]],\n",
       " \n",
       "         [[1.18627451e-01, 1.73529416e-01, 1.14705883e-01],\n",
       "          [9.92647037e-02, 1.48284316e-01, 1.11029409e-01],\n",
       "          [1.39460787e-01, 1.82598040e-01, 1.64950982e-01],\n",
       "          ...,\n",
       "          [1.03186272e-01, 1.52205884e-01, 1.17892154e-01],\n",
       "          [1.09558821e-01, 1.52696073e-01, 1.21323526e-01],\n",
       "          [1.35049015e-01, 1.78186268e-01, 1.46813720e-01]]],\n",
       " \n",
       " \n",
       "        ...,\n",
       " \n",
       " \n",
       "        [[[0.00000000e+00, 0.00000000e+00, 0.00000000e+00],\n",
       "          [0.00000000e+00, 0.00000000e+00, 0.00000000e+00],\n",
       "          [0.00000000e+00, 0.00000000e+00, 0.00000000e+00],\n",
       "          ...,\n",
       "          [0.00000000e+00, 0.00000000e+00, 0.00000000e+00],\n",
       "          [0.00000000e+00, 0.00000000e+00, 0.00000000e+00],\n",
       "          [0.00000000e+00, 0.00000000e+00, 0.00000000e+00]],\n",
       " \n",
       "         [[0.00000000e+00, 0.00000000e+00, 0.00000000e+00],\n",
       "          [0.00000000e+00, 0.00000000e+00, 0.00000000e+00],\n",
       "          [0.00000000e+00, 0.00000000e+00, 0.00000000e+00],\n",
       "          ...,\n",
       "          [0.00000000e+00, 0.00000000e+00, 0.00000000e+00],\n",
       "          [0.00000000e+00, 0.00000000e+00, 0.00000000e+00],\n",
       "          [0.00000000e+00, 0.00000000e+00, 0.00000000e+00]],\n",
       " \n",
       "         [[0.00000000e+00, 0.00000000e+00, 0.00000000e+00],\n",
       "          [0.00000000e+00, 0.00000000e+00, 0.00000000e+00],\n",
       "          [0.00000000e+00, 0.00000000e+00, 0.00000000e+00],\n",
       "          ...,\n",
       "          [0.00000000e+00, 0.00000000e+00, 0.00000000e+00],\n",
       "          [0.00000000e+00, 0.00000000e+00, 0.00000000e+00],\n",
       "          [0.00000000e+00, 0.00000000e+00, 0.00000000e+00]],\n",
       " \n",
       "         ...,\n",
       " \n",
       "         [[4.11764719e-02, 7.94117674e-02, 9.01960805e-02],\n",
       "          [5.58823533e-02, 9.33823511e-02, 1.06372550e-01],\n",
       "          [6.56862780e-02, 1.00980394e-01, 1.20588236e-01],\n",
       "          ...,\n",
       "          [0.00000000e+00, 0.00000000e+00, 0.00000000e+00],\n",
       "          [0.00000000e+00, 0.00000000e+00, 0.00000000e+00],\n",
       "          [0.00000000e+00, 0.00000000e+00, 0.00000000e+00]],\n",
       " \n",
       "         [[5.58823533e-02, 9.11764726e-02, 1.10784315e-01],\n",
       "          [6.20098040e-02, 9.73039195e-02, 1.16911761e-01],\n",
       "          [7.15686306e-02, 1.06862746e-01, 1.26470596e-01],\n",
       "          ...,\n",
       "          [0.00000000e+00, 0.00000000e+00, 0.00000000e+00],\n",
       "          [0.00000000e+00, 0.00000000e+00, 0.00000000e+00],\n",
       "          [0.00000000e+00, 0.00000000e+00, 0.00000000e+00]],\n",
       " \n",
       "         [[5.75980395e-02, 9.28921551e-02, 1.12499997e-01],\n",
       "          [6.96078464e-02, 1.04901962e-01, 1.24509804e-01],\n",
       "          [8.06372538e-02, 1.15931369e-01, 1.35539219e-01],\n",
       "          ...,\n",
       "          [0.00000000e+00, 0.00000000e+00, 0.00000000e+00],\n",
       "          [0.00000000e+00, 0.00000000e+00, 0.00000000e+00],\n",
       "          [0.00000000e+00, 0.00000000e+00, 0.00000000e+00]]],\n",
       " \n",
       " \n",
       "        [[[6.29901946e-01, 5.47549009e-01, 6.06372535e-01],\n",
       "          [6.38725519e-01, 5.57107866e-01, 6.15686297e-01],\n",
       "          [6.45098031e-01, 5.74509799e-01, 6.35294139e-01],\n",
       "          ...,\n",
       "          [4.05882359e-01, 3.62745106e-01, 4.07843143e-01],\n",
       "          [6.42647088e-01, 5.81862748e-01, 6.31372571e-01],\n",
       "          [6.99264705e-01, 6.28676474e-01, 6.75735295e-01]],\n",
       " \n",
       "         [[6.35539234e-01, 5.44362724e-01, 6.07107818e-01],\n",
       "          [6.41911745e-01, 5.51715672e-01, 6.14460766e-01],\n",
       "          [6.39460802e-01, 5.55147052e-01, 6.14950955e-01],\n",
       "          ...,\n",
       "          [2.56862760e-01, 2.12745100e-01, 2.69117653e-01],\n",
       "          [4.85784322e-01, 4.24264699e-01, 4.79411751e-01],\n",
       "          [5.88235319e-01, 5.18627465e-01, 5.75490177e-01]],\n",
       " \n",
       "         [[6.49999976e-01, 5.58823526e-01, 6.21568620e-01],\n",
       "          [6.45588219e-01, 5.54656863e-01, 6.17401958e-01],\n",
       "          [6.46323502e-01, 5.56127429e-01, 6.18872523e-01],\n",
       "          ...,\n",
       "          [2.78676480e-01, 2.34558821e-01, 2.89460778e-01],\n",
       "          [3.99019599e-01, 3.46078426e-01, 3.98039222e-01],\n",
       "          [4.68137264e-01, 4.04411763e-01, 4.58333343e-01]],\n",
       " \n",
       "         ...,\n",
       " \n",
       "         [[3.00980389e-01, 2.61764705e-01, 2.26470590e-01],\n",
       "          [2.88970590e-01, 2.49754906e-01, 2.14215681e-01],\n",
       "          [2.84068614e-01, 2.44852945e-01, 2.08578438e-01],\n",
       "          ...,\n",
       "          [1.29656866e-01, 1.05147056e-01, 6.69117644e-02],\n",
       "          [1.30392164e-01, 1.17647059e-01, 8.82352963e-02],\n",
       "          [1.89950988e-01, 1.78186268e-01, 1.58578426e-01]],\n",
       " \n",
       "         [[3.48774523e-01, 3.09558809e-01, 2.71323532e-01],\n",
       "          [3.59558821e-01, 3.20343137e-01, 2.81862736e-01],\n",
       "          [3.41176480e-01, 3.01960796e-01, 2.58333325e-01],\n",
       "          ...,\n",
       "          [1.25245094e-01, 1.00735292e-01, 6.69117644e-02],\n",
       "          [1.34313732e-01, 1.21568628e-01, 9.21568647e-02],\n",
       "          [1.75735295e-01, 1.63970590e-01, 1.44362748e-01]],\n",
       " \n",
       "         [[3.62745106e-01, 3.23529422e-01, 2.84313738e-01],\n",
       "          [3.61029416e-01, 3.21813732e-01, 2.80637264e-01],\n",
       "          [3.54901969e-01, 3.15686285e-01, 2.68627465e-01],\n",
       "          ...,\n",
       "          [1.34313732e-01, 1.08823530e-01, 7.94117674e-02],\n",
       "          [1.41176477e-01, 1.27450988e-01, 1.00980394e-01],\n",
       "          [1.71568632e-01, 1.59803927e-01, 1.40196085e-01]]],\n",
       " \n",
       " \n",
       "        [[[6.49999976e-01, 5.91176450e-01, 6.73529387e-01],\n",
       "          [6.49264693e-01, 5.90441167e-01, 6.72794104e-01],\n",
       "          [6.53921545e-01, 5.95098019e-01, 6.77450955e-01],\n",
       "          ...,\n",
       "          [3.31862748e-01, 2.78921574e-01, 3.06372553e-01],\n",
       "          [3.78186285e-01, 3.13480407e-01, 3.49754900e-01],\n",
       "          [3.84313732e-01, 3.05882365e-01, 3.49019617e-01]],\n",
       " \n",
       "         [[6.53921545e-01, 5.95098019e-01, 6.79411769e-01],\n",
       "          [6.50735319e-01, 5.91911793e-01, 6.77696049e-01],\n",
       "          [6.56862736e-01, 5.98039210e-01, 6.88235283e-01],\n",
       "          ...,\n",
       "          [3.27941179e-01, 2.76960790e-01, 3.02205890e-01],\n",
       "          [3.80637258e-01, 3.17892164e-01, 3.47549021e-01],\n",
       "          [3.81372541e-01, 3.14705878e-01, 3.51960778e-01]],\n",
       " \n",
       "         [[6.57843113e-01, 5.99019587e-01, 6.89215660e-01],\n",
       "          [6.49264693e-01, 5.90441167e-01, 6.80637240e-01],\n",
       "          [6.49264693e-01, 5.90441167e-01, 6.80637240e-01],\n",
       "          ...,\n",
       "          [2.83333331e-01, 2.44117647e-01, 2.59803921e-01],\n",
       "          [3.44852954e-01, 2.93872535e-01, 3.20588231e-01],\n",
       "          [3.83333325e-01, 3.22549015e-01, 3.50980401e-01]],\n",
       " \n",
       "         ...,\n",
       " \n",
       "         [[1.20588236e-01, 1.24509804e-01, 1.32352948e-01],\n",
       "          [1.10784315e-01, 1.13725491e-01, 1.21568628e-01],\n",
       "          [1.53921574e-01, 1.53921574e-01, 1.61764711e-01],\n",
       "          ...,\n",
       "          [1.83088228e-01, 2.55882353e-01, 2.77450979e-01],\n",
       "          [1.00000001e-01, 1.32107839e-01, 1.53431371e-01],\n",
       "          [8.60294104e-02, 8.84803906e-02, 1.04901962e-01]],\n",
       " \n",
       "         [[1.22549020e-01, 1.26470596e-01, 1.34313732e-01],\n",
       "          [1.20588236e-01, 1.23529412e-01, 1.31372556e-01],\n",
       "          [1.42647058e-01, 1.42647058e-01, 1.50490195e-01],\n",
       "          ...,\n",
       "          [1.77450985e-01, 2.56862760e-01, 2.75490195e-01],\n",
       "          [1.28921568e-01, 1.67647064e-01, 1.86029404e-01],\n",
       "          [1.07352942e-01, 1.22303918e-01, 1.34313732e-01]],\n",
       " \n",
       "         [[1.19607843e-01, 1.23529412e-01, 1.39215693e-01],\n",
       "          [1.29166663e-01, 1.33088231e-01, 1.48774505e-01],\n",
       "          [1.38235301e-01, 1.42156869e-01, 1.57843143e-01],\n",
       "          ...,\n",
       "          [1.76470593e-01, 2.65686274e-01, 2.83333331e-01],\n",
       "          [1.48039222e-01, 1.95098042e-01, 2.09803924e-01],\n",
       "          [1.10049017e-01, 1.29656866e-01, 1.41421571e-01]]]],\n",
       "       dtype=float32),\n",
       " array([0., 0., 0., 1., 0., 1., 1., 0., 1., 1., 0., 0., 0., 0., 1., 1.],\n",
       "       dtype=float32))"
      ]
     },
     "execution_count": 33,
     "metadata": {},
     "output_type": "execute_result"
    }
   ],
   "source": [
    "train_sample"
   ]
  },
  {
   "cell_type": "code",
   "execution_count": 34,
   "id": "83799824-5ebb-4a98-b019-a7a127c222b3",
   "metadata": {},
   "outputs": [
    {
     "data": {
      "text/plain": [
       "3"
      ]
     },
     "execution_count": 34,
     "metadata": {},
     "output_type": "execute_result"
    }
   ],
   "source": [
    "len(train_sample)"
   ]
  },
  {
   "cell_type": "code",
   "execution_count": 35,
   "id": "74a41169-fd9b-43ae-b5c5-b44ef70cbd2a",
   "metadata": {},
   "outputs": [
    {
     "data": {
      "text/plain": [
       "16"
      ]
     },
     "execution_count": 35,
     "metadata": {},
     "output_type": "execute_result"
    }
   ],
   "source": [
    "len(train_sample[0])"
   ]
  },
  {
   "cell_type": "code",
   "execution_count": 36,
   "id": "95d33deb-ec87-493e-89e2-ba46d7645d15",
   "metadata": {},
   "outputs": [
    {
     "data": {
      "text/plain": [
       "16"
      ]
     },
     "execution_count": 36,
     "metadata": {},
     "output_type": "execute_result"
    }
   ],
   "source": [
    "len(train_sample[1])"
   ]
  },
  {
   "cell_type": "code",
   "execution_count": 37,
   "id": "24d55911-a638-4453-97fe-ffdbd1a32177",
   "metadata": {},
   "outputs": [
    {
     "data": {
      "text/plain": [
       "16"
      ]
     },
     "execution_count": 37,
     "metadata": {},
     "output_type": "execute_result"
    }
   ],
   "source": [
    "len(train_sample[2])"
   ]
  },
  {
   "cell_type": "markdown",
   "id": "b9b8cf3d-0296-4900-be7c-6ebf55a49437",
   "metadata": {},
   "source": [
    "### testing partition"
   ]
  },
  {
   "cell_type": "code",
   "execution_count": 38,
   "id": "20a4e192-f564-49f5-84e5-4b6f98e01db7",
   "metadata": {},
   "outputs": [],
   "source": [
    "test_data = data.skip(round(len(data)*.7))\n",
    "test_data = test_data.take(round(len(data)*.3))\n",
    "test_data = test_data.batch(16)\n",
    "test_data = test_data.prefetch(8)"
   ]
  },
  {
   "cell_type": "markdown",
   "id": "04a3b8cb-2b7e-438c-b083-387dec36f771",
   "metadata": {},
   "source": [
    "# Model Engineering"
   ]
  },
  {
   "cell_type": "markdown",
   "id": "d0a1d338-478b-4d96-9a0d-4ad00c63302b",
   "metadata": {},
   "source": [
    "#### build emeding layer"
   ]
  },
  {
   "cell_type": "code",
   "execution_count": 39,
   "id": "47a9c62d-3460-483b-986c-caa17a5437bf",
   "metadata": {},
   "outputs": [],
   "source": [
    "def make_embedings():\n",
    "    inp = Input(shape=(100,100,3),name=\"input_image\")\n",
    "    #first block\n",
    "    c1 = Conv2D(64,(10,10),activation=\"relu\")(inp)\n",
    "    m1 = MaxPooling2D(64,(2,2),padding='same')(c1)\n",
    "    #second block\n",
    "    c2 = Conv2D(128,(7,7),activation=\"relu\")(m1)\n",
    "    m2 = MaxPooling2D(64,(2,2),padding='same')(c2)\n",
    "    #third block\n",
    "    c3 = Conv2D(128,(4,4),activation=\"relu\")(m2)\n",
    "    m3 = MaxPooling2D(64,(2,2),padding = 'same')(c3)\n",
    "    #final embeding block\n",
    "    c4 = Conv2D(256,(4,4),activation=\"relu\")(m3)\n",
    "    f1 = Flatten()(c4)\n",
    "    d1 = Dense(4096, activation=\"sigmoid\")(f1)\n",
    "\n",
    "\n",
    "    return Model(inputs=[inp] , outputs=[d1] , name='embeding' )"
   ]
  },
  {
   "cell_type": "code",
   "execution_count": 40,
   "id": "8c63f8fd-a6a5-44c0-9225-b2cef6f2c351",
   "metadata": {},
   "outputs": [],
   "source": [
    "embeding = make_embedings()"
   ]
  },
  {
   "cell_type": "code",
   "execution_count": 41,
   "id": "e76c687b-93f3-4aae-ab12-b08b65bd943f",
   "metadata": {},
   "outputs": [
    {
     "data": {
      "text/plain": [
       "<keras.src.engine.functional.Functional at 0x11b21dc3370>"
      ]
     },
     "execution_count": 41,
     "metadata": {},
     "output_type": "execute_result"
    }
   ],
   "source": [
    "embeding"
   ]
  },
  {
   "cell_type": "code",
   "execution_count": 42,
   "id": "0673d5d4-2fe4-444a-b89f-158b6e22c6e2",
   "metadata": {},
   "outputs": [
    {
     "name": "stdout",
     "output_type": "stream",
     "text": [
      "Model: \"embeding\"\n",
      "_________________________________________________________________\n",
      " Layer (type)                Output Shape              Param #   \n",
      "=================================================================\n",
      " input_image (InputLayer)    [(None, 100, 100, 3)]     0         \n",
      "                                                                 \n",
      " conv2d (Conv2D)             (None, 91, 91, 64)        19264     \n",
      "                                                                 \n",
      " max_pooling2d (MaxPooling2  (None, 46, 46, 64)        0         \n",
      " D)                                                              \n",
      "                                                                 \n",
      " conv2d_1 (Conv2D)           (None, 40, 40, 128)       401536    \n",
      "                                                                 \n",
      " max_pooling2d_1 (MaxPoolin  (None, 20, 20, 128)       0         \n",
      " g2D)                                                            \n",
      "                                                                 \n",
      " conv2d_2 (Conv2D)           (None, 17, 17, 128)       262272    \n",
      "                                                                 \n",
      " max_pooling2d_2 (MaxPoolin  (None, 9, 9, 128)         0         \n",
      " g2D)                                                            \n",
      "                                                                 \n",
      " conv2d_3 (Conv2D)           (None, 6, 6, 256)         524544    \n",
      "                                                                 \n",
      " flatten (Flatten)           (None, 9216)              0         \n",
      "                                                                 \n",
      " dense (Dense)               (None, 4096)              37752832  \n",
      "                                                                 \n",
      "=================================================================\n",
      "Total params: 38960448 (148.62 MB)\n",
      "Trainable params: 38960448 (148.62 MB)\n",
      "Non-trainable params: 0 (0.00 Byte)\n",
      "_________________________________________________________________\n"
     ]
    }
   ],
   "source": [
    "embeding.summary()"
   ]
  },
  {
   "cell_type": "markdown",
   "id": "f40ef654-58ee-4267-9f99-36c2960e99a5",
   "metadata": {},
   "source": [
    "#### build distance layer"
   ]
  },
  {
   "cell_type": "code",
   "execution_count": 43,
   "id": "44ffd20f-957e-4b7e-bcc6-978911d72c0d",
   "metadata": {},
   "outputs": [],
   "source": [
    "class L1dist(Layer):\n",
    "    def __init__(self,**kwargs):\n",
    "        super().__init__()\n",
    "    #actual work happening\n",
    "    def call(self,input_embeding,validation_embeding):\n",
    "        return tf.math.abs(input_embeding-validation_embeding)"
   ]
  },
  {
   "cell_type": "code",
   "execution_count": 44,
   "id": "d96748a4-89e0-4337-960b-9815a089ca5f",
   "metadata": {},
   "outputs": [],
   "source": [
    "l1 = L1dist()"
   ]
  },
  {
   "cell_type": "code",
   "execution_count": 45,
   "id": "e91239d2-55a5-4770-8a27-56010e4e9876",
   "metadata": {},
   "outputs": [
    {
     "data": {
      "text/plain": [
       "<__main__.L1dist at 0x11b21de6700>"
      ]
     },
     "execution_count": 45,
     "metadata": {},
     "output_type": "execute_result"
    }
   ],
   "source": [
    "l1"
   ]
  },
  {
   "cell_type": "markdown",
   "id": "79dec4ac-b34f-4cdd-b941-439103ff665e",
   "metadata": {},
   "source": [
    "#### making siamese model"
   ]
  },
  {
   "cell_type": "code",
   "execution_count": 46,
   "id": "410d0d1f-9b0a-45f9-8d58-500273dd71d5",
   "metadata": {},
   "outputs": [],
   "source": [
    "def make_siamese_model():\n",
    "    input_image = Input(name=\"input_img\",shape=(100,100,3))\n",
    "    validation_image = Input(name=\"validation_img\",shape=(100,100,3))\n",
    "    #combine siamese distance components\n",
    "    siamese_layer = L1dist()\n",
    "    siamese_layer._name = \"distance\"\n",
    "    distances = siamese_layer(embeding(input_image),embeding(validation_image))\n",
    "    #classification layer\n",
    "    classification = Dense(1,activation = 'sigmoid')(distances)\n",
    "\n",
    "    return Model(inputs=[input_image,validation_image],outputs=[classification],name='SiameseNetwork')\n",
    "    "
   ]
  },
  {
   "cell_type": "code",
   "execution_count": 47,
   "id": "50d3cec9-1741-497d-8bc6-f58c85b017bb",
   "metadata": {},
   "outputs": [],
   "source": [
    "siamese_network = make_siamese_model()"
   ]
  },
  {
   "cell_type": "code",
   "execution_count": 48,
   "id": "c186e184-a488-48bd-bf26-e78e57e366ca",
   "metadata": {},
   "outputs": [
    {
     "data": {
      "text/plain": [
       "<keras.src.engine.functional.Functional at 0x11b21e26a30>"
      ]
     },
     "execution_count": 48,
     "metadata": {},
     "output_type": "execute_result"
    }
   ],
   "source": [
    "siamese_network"
   ]
  },
  {
   "cell_type": "code",
   "execution_count": 49,
   "id": "2e2635e1-4b35-4d2a-b7e3-afab2b9aa118",
   "metadata": {},
   "outputs": [
    {
     "name": "stdout",
     "output_type": "stream",
     "text": [
      "Model: \"SiameseNetwork\"\n",
      "__________________________________________________________________________________________________\n",
      " Layer (type)                Output Shape                 Param #   Connected to                  \n",
      "==================================================================================================\n",
      " input_img (InputLayer)      [(None, 100, 100, 3)]        0         []                            \n",
      "                                                                                                  \n",
      " validation_img (InputLayer  [(None, 100, 100, 3)]        0         []                            \n",
      " )                                                                                                \n",
      "                                                                                                  \n",
      " embeding (Functional)       (None, 4096)                 3896044   ['input_img[0][0]',           \n",
      "                                                          8          'validation_img[0][0]']      \n",
      "                                                                                                  \n",
      " distance (L1dist)           (None, 4096)                 0         ['embeding[0][0]',            \n",
      "                                                                     'embeding[1][0]']            \n",
      "                                                                                                  \n",
      " dense_1 (Dense)             (None, 1)                    4097      ['distance[0][0]']            \n",
      "                                                                                                  \n",
      "==================================================================================================\n",
      "Total params: 38964545 (148.64 MB)\n",
      "Trainable params: 38964545 (148.64 MB)\n",
      "Non-trainable params: 0 (0.00 Byte)\n",
      "__________________________________________________________________________________________________\n"
     ]
    }
   ],
   "source": [
    "siamese_network.summary()"
   ]
  },
  {
   "cell_type": "code",
   "execution_count": null,
   "id": "cf90c332-adcd-4448-953f-497d5943c1e2",
   "metadata": {},
   "outputs": [],
   "source": []
  },
  {
   "cell_type": "markdown",
   "id": "42d35eef-c432-4476-a4e1-78d710760f64",
   "metadata": {},
   "source": [
    "# Training"
   ]
  },
  {
   "cell_type": "markdown",
   "id": "39cd7f2a-65ed-4abb-aba7-c57ecb793fd1",
   "metadata": {},
   "source": [
    "### setup loss and optimizer"
   ]
  },
  {
   "cell_type": "code",
   "execution_count": 50,
   "id": "1285e6a3-8914-4fd5-ae48-1a2d31ca22a1",
   "metadata": {},
   "outputs": [],
   "source": [
    "binary_cross_loss = tf.losses.BinaryCrossentropy()"
   ]
  },
  {
   "cell_type": "code",
   "execution_count": 51,
   "id": "07262063-fcb9-4714-ab86-3029ed846457",
   "metadata": {},
   "outputs": [],
   "source": [
    "opt = tf.keras.optimizers.Adam(1e-4)"
   ]
  },
  {
   "cell_type": "markdown",
   "id": "c1f0ef47-11d5-47c7-a9d2-c725d441768c",
   "metadata": {},
   "source": [
    "### establishing checkpoints"
   ]
  },
  {
   "cell_type": "code",
   "execution_count": 52,
   "id": "59c5a75a-fe55-4e1a-8db5-fe3743cf9257",
   "metadata": {},
   "outputs": [],
   "source": [
    "checkpoint_dir = './training_checkpoints'\n",
    "checkpoint_prefix = os.path.join(checkpoint_dir,'ckpt')\n",
    "checkpoint = tf.train.Checkpoint(opt=opt,siamese_model = siamese_network)"
   ]
  },
  {
   "cell_type": "markdown",
   "id": "83005cee-3821-46a6-8cdb-70af520d5b05",
   "metadata": {},
   "source": [
    "### building training loop"
   ]
  },
  {
   "cell_type": "code",
   "execution_count": 53,
   "id": "efc48f25-db03-47ed-9800-648216f67253",
   "metadata": {},
   "outputs": [],
   "source": [
    "@tf.function\n",
    "def train_step(batch):\n",
    "    with tf.GradientTape() as tape:\n",
    "        #get anchor and pos/neg images\n",
    "        X = batch[:2]\n",
    "        #get label\n",
    "        Y = batch[2]\n",
    "        #forward pass\n",
    "        yhat = siamese_network(X,training=True)\n",
    "        #calculating loss\n",
    "        loss = binary_cross_loss(Y,yhat)\n",
    "    #calculate gradients\n",
    "    grad = tape.gradient(loss,siamese_network.trainable_variables)\n",
    "    #calculate updated weights and apply to siamese model\n",
    "    opt.apply_gradients(zip(grad,siamese_network.trainable_variables))\n",
    "    return loss"
   ]
  },
  {
   "cell_type": "markdown",
   "id": "ef945c0b-8033-4668-8bd9-1de3a43697ed",
   "metadata": {},
   "source": [
    "### training loop"
   ]
  },
  {
   "cell_type": "code",
   "execution_count": 54,
   "id": "3cfb1fd4-9ba5-4f60-b72e-7ad5bbb2310d",
   "metadata": {},
   "outputs": [],
   "source": [
    "def train(data,EPOCHS):\n",
    "    #loop through epochs\n",
    "    for epoch in range(1,EPOCHS+1):\n",
    "        print(\"\\n epoch {}/{}\".format(epoch,EPOCHS))\n",
    "        progbar = tf.keras.utils.Progbar(len(data))\n",
    "        #loop through each batch\n",
    "        for idx, batch in enumerate(data):\n",
    "            train_step(batch)\n",
    "            progbar.update(idx+1)\n",
    "        #save checkpoints\n",
    "        if epoch%10==0:\n",
    "            checkpoint.save(file_prefix=checkpoint_prefix)"
   ]
  },
  {
   "cell_type": "markdown",
   "id": "27d50450-670c-4204-9929-02a067e8120c",
   "metadata": {},
   "source": [
    "### train model"
   ]
  },
  {
   "cell_type": "code",
   "execution_count": 52,
   "id": "610b100e-d069-421c-a7e8-d14e0451efe2",
   "metadata": {},
   "outputs": [],
   "source": [
    "EPOCHS = 50"
   ]
  },
  {
   "cell_type": "code",
   "execution_count": 53,
   "id": "dcea6d58-3db4-4fbf-9f5d-b1aeff0ff1c8",
   "metadata": {},
   "outputs": [
    {
     "name": "stdout",
     "output_type": "stream",
     "text": [
      "\n",
      " epoch 1/50\n",
      "27/27 [==============================] - 793s 29s/step\n",
      "\n",
      " epoch 2/50\n",
      "27/27 [==============================] - 749s 28s/step\n",
      "\n",
      " epoch 3/50\n",
      "27/27 [==============================] - 751s 28s/step\n",
      "\n",
      " epoch 4/50\n",
      "27/27 [==============================] - 740s 27s/step\n",
      "\n",
      " epoch 5/50\n",
      "27/27 [==============================] - 943s 35s/step\n",
      "\n",
      " epoch 6/50\n",
      "27/27 [==============================] - 985s 36s/step\n",
      "\n",
      " epoch 7/50\n",
      "27/27 [==============================] - 912s 34s/step\n",
      "\n",
      " epoch 8/50\n",
      "27/27 [==============================] - 852s 31s/step\n",
      "\n",
      " epoch 9/50\n",
      "27/27 [==============================] - 947s 35s/step\n",
      "\n",
      " epoch 10/50\n",
      "27/27 [==============================] - 842s 31s/step\n",
      "\n",
      " epoch 11/50\n",
      "27/27 [==============================] - 896s 33s/step\n",
      "\n",
      " epoch 12/50\n",
      "27/27 [==============================] - 658s 24s/step\n",
      "\n",
      " epoch 13/50\n",
      "27/27 [==============================] - 711s 26s/step\n",
      "\n",
      " epoch 14/50\n",
      "27/27 [==============================] - 803s 30s/step\n",
      "\n",
      " epoch 15/50\n",
      "27/27 [==============================] - 779s 29s/step\n",
      "\n",
      " epoch 16/50\n",
      "27/27 [==============================] - 849s 32s/step\n",
      "\n",
      " epoch 17/50\n",
      "27/27 [==============================] - 847s 31s/step\n",
      "\n",
      " epoch 18/50\n",
      "27/27 [==============================] - 799s 30s/step\n",
      "\n",
      " epoch 19/50\n",
      "27/27 [==============================] - 782s 29s/step\n",
      "\n",
      " epoch 20/50\n",
      "27/27 [==============================] - 854s 32s/step\n",
      "\n",
      " epoch 21/50\n",
      "27/27 [==============================] - 874s 33s/step\n",
      "\n",
      " epoch 22/50\n",
      "27/27 [==============================] - 1102s 41s/step\n",
      "\n",
      " epoch 23/50\n",
      "27/27 [==============================] - 1114s 41s/step\n",
      "\n",
      " epoch 24/50\n",
      "27/27 [==============================] - 3175s 120s/step\n",
      "\n",
      " epoch 25/50\n",
      "27/27 [==============================] - 801s 30s/step\n",
      "\n",
      " epoch 26/50\n",
      "27/27 [==============================] - 771s 29s/step\n",
      "\n",
      " epoch 27/50\n",
      "27/27 [==============================] - 779s 29s/step\n",
      "\n",
      " epoch 28/50\n",
      "27/27 [==============================] - 777s 29s/step\n",
      "\n",
      " epoch 29/50\n",
      "27/27 [==============================] - 783s 29s/step\n",
      "\n",
      " epoch 30/50\n",
      "27/27 [==============================] - 820s 30s/step\n",
      "\n",
      " epoch 31/50\n",
      "27/27 [==============================] - 854s 32s/step\n",
      "\n",
      " epoch 32/50\n",
      "27/27 [==============================] - 811s 30s/step\n",
      "\n",
      " epoch 33/50\n",
      "27/27 [==============================] - 767s 28s/step\n",
      "\n",
      " epoch 34/50\n",
      "27/27 [==============================] - 788s 29s/step\n",
      "\n",
      " epoch 35/50\n",
      "27/27 [==============================] - 854s 32s/step\n",
      "\n",
      " epoch 36/50\n",
      "27/27 [==============================] - 1194s 45s/step\n",
      "\n",
      " epoch 37/50\n",
      "27/27 [==============================] - 648s 24s/step\n",
      "\n",
      " epoch 38/50\n",
      "27/27 [==============================] - 729s 27s/step\n",
      "\n",
      " epoch 39/50\n",
      "27/27 [==============================] - 789s 29s/step\n",
      "\n",
      " epoch 40/50\n",
      "27/27 [==============================] - 837s 31s/step\n",
      "\n",
      " epoch 41/50\n",
      "27/27 [==============================] - 786s 29s/step\n",
      "\n",
      " epoch 42/50\n",
      "27/27 [==============================] - 1040s 39s/step\n",
      "\n",
      " epoch 43/50\n",
      "27/27 [==============================] - 774s 29s/step\n",
      "\n",
      " epoch 44/50\n",
      "27/27 [==============================] - 804s 30s/step\n",
      "\n",
      " epoch 45/50\n",
      "27/27 [==============================] - 773s 29s/step\n",
      "\n",
      " epoch 46/50\n",
      "27/27 [==============================] - 822s 30s/step\n",
      "\n",
      " epoch 47/50\n",
      "27/27 [==============================] - 976s 37s/step\n",
      "\n",
      " epoch 48/50\n",
      "27/27 [==============================] - 856s 31s/step\n",
      "\n",
      " epoch 49/50\n",
      "27/27 [==============================] - 795s 29s/step\n",
      "\n",
      " epoch 50/50\n",
      "27/27 [==============================] - 820s 30s/step\n"
     ]
    }
   ],
   "source": [
    "train(train_data,EPOCHS)"
   ]
  },
  {
   "cell_type": "markdown",
   "id": "35f42b00-242c-4b8a-b74c-795175d0c0a5",
   "metadata": {},
   "source": [
    "# Evaluate Model"
   ]
  },
  {
   "cell_type": "code",
   "execution_count": 55,
   "id": "4643717e-8270-455c-88ae-12555b0a0cac",
   "metadata": {},
   "outputs": [],
   "source": [
    "#imprting matric calculations\n",
    "from tensorflow.keras.metrics import Precision, Recall"
   ]
  },
  {
   "cell_type": "code",
   "execution_count": 56,
   "id": "25ebae1f-d1ea-44f8-bf86-90de2d43ee60",
   "metadata": {},
   "outputs": [],
   "source": [
    "#get a batch of test data\n",
    "test_input, test_val, y_true = test_data.as_numpy_iterator().next()"
   ]
  },
  {
   "cell_type": "code",
   "execution_count": 57,
   "id": "41790874-fe3b-4c6f-b928-8e9da8138496",
   "metadata": {},
   "outputs": [
    {
     "name": "stdout",
     "output_type": "stream",
     "text": [
      "1/1 [==============================] - 5s 5s/step\n"
     ]
    },
    {
     "data": {
      "text/plain": [
       "array([[0.5014047 ],\n",
       "       [0.50045764],\n",
       "       [0.501031  ],\n",
       "       [0.499971  ],\n",
       "       [0.50025094],\n",
       "       [0.50055045],\n",
       "       [0.4995941 ],\n",
       "       [0.50004196],\n",
       "       [0.499604  ],\n",
       "       [0.49991736],\n",
       "       [0.50121003],\n",
       "       [0.50012934],\n",
       "       [0.50154865],\n",
       "       [0.5002336 ],\n",
       "       [0.5004257 ],\n",
       "       [0.5001478 ]], dtype=float32)"
      ]
     },
     "execution_count": 57,
     "metadata": {},
     "output_type": "execute_result"
    }
   ],
   "source": [
    "#make predictions\n",
    "y_hat = siamese_network.predict([test_input,test_val])\n",
    "y_hat"
   ]
  },
  {
   "cell_type": "code",
   "execution_count": 58,
   "id": "79b1b458-982b-4318-a9e7-514780710f0f",
   "metadata": {},
   "outputs": [
    {
     "data": {
      "text/plain": [
       "[1, 1, 1, 0, 1, 1, 0, 1, 0, 0, 1, 1, 1, 1, 1, 1]"
      ]
     },
     "execution_count": 58,
     "metadata": {},
     "output_type": "execute_result"
    }
   ],
   "source": [
    "#post processing the results\n",
    "[1 if prediction>0.5 else 0 for prediction in y_hat]\n",
    "\n",
    "# res = []\n",
    "# for predictions in y_hat:\n",
    "#     if predictions>0.5:\n",
    "#         res.append(1)\n",
    "#     else:\n",
    "#         res.append(0)"
   ]
  },
  {
   "cell_type": "code",
   "execution_count": 59,
   "id": "0b701dd1-9a96-43c5-81c1-28b6c1e16ef5",
   "metadata": {},
   "outputs": [
    {
     "data": {
      "text/plain": [
       "array([0., 0., 0., 1., 1., 0., 0., 1., 0., 1., 0., 1., 0., 1., 0., 1.],\n",
       "      dtype=float32)"
      ]
     },
     "execution_count": 59,
     "metadata": {},
     "output_type": "execute_result"
    }
   ],
   "source": [
    "y_true"
   ]
  },
  {
   "cell_type": "code",
   "execution_count": 60,
   "id": "dbebcd94-1eca-4c88-8232-af4dadfa96b5",
   "metadata": {},
   "outputs": [
    {
     "data": {
      "text/plain": [
       "0.71428573"
      ]
     },
     "execution_count": 60,
     "metadata": {},
     "output_type": "execute_result"
    }
   ],
   "source": [
    "#creating a metric object\n",
    "m = Recall()\n",
    "#calculating the recall value\n",
    "m.update_state(y_true,y_hat)\n",
    "#return recall result\n",
    "m.result().numpy()"
   ]
  },
  {
   "cell_type": "code",
   "execution_count": 61,
   "id": "d6104ecc-ff5b-46b7-8958-ed45da80034a",
   "metadata": {},
   "outputs": [
    {
     "data": {
      "text/plain": [
       "0.41666666"
      ]
     },
     "execution_count": 61,
     "metadata": {},
     "output_type": "execute_result"
    }
   ],
   "source": [
    "m_ = Precision()\n",
    "m_.update_state(y_true,y_hat)\n",
    "m_.result().numpy()"
   ]
  },
  {
   "cell_type": "code",
   "execution_count": 62,
   "id": "b5dc3f83-0952-4420-ad25-e3d46ec77225",
   "metadata": {},
   "outputs": [
    {
     "data": {
      "image/png": "[encoded data removed]",
      "text/plain": [
       "<Figure size 1000x800 with 2 Axes>"
      ]
     },
     "metadata": {},
     "output_type": "display_data"
    }
   ],
   "source": [
    "#visualizing results\n",
    "plt.figure(figsize=(10,8))\n",
    "plt.subplot(1,2,1)\n",
    "plt.imshow(test_input[4])\n",
    "plt.subplot(1,2,2)\n",
    "plt.imshow(test_val[4])\n",
    "plt.show()"
   ]
  },
  {
   "cell_type": "code",
   "execution_count": 63,
   "id": "f8214c65-dd5a-4109-a1fa-f9a2ad939fdf",
   "metadata": {},
   "outputs": [],
   "source": [
    "#saving the model"
   ]
  },
  {
   "cell_type": "code",
   "execution_count": 79,
   "id": "4c69b36b-a503-40b7-9cba-f3a3b26fb6fc",
   "metadata": {},
   "outputs": [
    {
     "name": "stdout",
     "output_type": "stream",
     "text": [
      "WARNING:tensorflow:Compiled the loaded model, but the compiled metrics have yet to be built. `model.compile_metrics` will be empty until you train or evaluate the model.\n"
     ]
    },
    {
     "name": "stderr",
     "output_type": "stream",
     "text": [
      "D:\\facial_recognition\\facialreco\\lib\\site-packages\\keras\\src\\engine\\training.py:3079: UserWarning: You are saving your model as an HDF5 file via `model.save()`. This file format is considered legacy. We recommend using instead the native Keras format, e.g. `model.save('my_model.keras')`.\n",
      "  saving_api.save_model(\n"
     ]
    }
   ],
   "source": [
    "#save weights\n",
    "siamese_network.save('siamese_model.h5')"
   ]
  },
  {
   "cell_type": "code",
   "execution_count": 64,
   "id": "20a43b39-7518-479f-92d9-2d647ecf1f4c",
   "metadata": {},
   "outputs": [
    {
     "name": "stdout",
     "output_type": "stream",
     "text": [
      "WARNING:tensorflow:No training configuration found in the save file, so the model was *not* compiled. Compile it manually.\n"
     ]
    }
   ],
   "source": [
    "model = tf.keras.models.load_model('siamese_model.h5',custom_objects={'L1dist':L1dist,'BinaryCrossentropy':tf.losses.BinaryCrossentropy})"
   ]
  },
  {
   "cell_type": "code",
   "execution_count": 65,
   "id": "5b387f2f-cef2-4797-a3f8-b2782480b54b",
   "metadata": {},
   "outputs": [
    {
     "name": "stdout",
     "output_type": "stream",
     "text": [
      "1/1 [==============================] - 3s 3s/step\n"
     ]
    },
    {
     "data": {
      "text/plain": [
       "array([[2.13825956e-06],\n",
       "       [1.17229156e-07],\n",
       "       [8.79043019e-12],\n",
       "       [9.99996722e-01],\n",
       "       [1.00000000e+00],\n",
       "       [2.94670781e-11],\n",
       "       [5.32662699e-11],\n",
       "       [1.00000000e+00],\n",
       "       [4.43991406e-11],\n",
       "       [8.63220692e-01],\n",
       "       [1.09493505e-10],\n",
       "       [9.73139107e-01],\n",
       "       [3.70030985e-11],\n",
       "       [9.99973893e-01],\n",
       "       [6.88280197e-11],\n",
       "       [9.99998152e-01]], dtype=float32)"
      ]
     },
     "execution_count": 65,
     "metadata": {},
     "output_type": "execute_result"
    }
   ],
   "source": [
    "model.predict([test_input,test_val])"
   ]
  },
  {
   "cell_type": "code",
   "execution_count": 66,
   "id": "d7aaad8f-e87d-4965-9680-66b1a58411d6",
   "metadata": {},
   "outputs": [
    {
     "name": "stdout",
     "output_type": "stream",
     "text": [
      "Model: \"SiameseNetwork\"\n",
      "__________________________________________________________________________________________________\n",
      " Layer (type)                Output Shape                 Param #   Connected to                  \n",
      "==================================================================================================\n",
      " input_img (InputLayer)      [(None, 100, 100, 3)]        0         []                            \n",
      "                                                                                                  \n",
      " validation_img (InputLayer  [(None, 100, 100, 3)]        0         []                            \n",
      " )                                                                                                \n",
      "                                                                                                  \n",
      " embeding (Functional)       (None, 4096)                 3896044   ['input_img[0][0]',           \n",
      "                                                          8          'validation_img[0][0]']      \n",
      "                                                                                                  \n",
      " l1dist_2 (L1dist)           (None, 4096)                 0         ['embeding[0][0]',            \n",
      "                                                                     'embeding[1][0]']            \n",
      "                                                                                                  \n",
      " dense_1 (Dense)             (None, 1)                    4097      ['l1dist_2[0][0]']            \n",
      "                                                                                                  \n",
      "==================================================================================================\n",
      "Total params: 38964545 (148.64 MB)\n",
      "Trainable params: 38964545 (148.64 MB)\n",
      "Non-trainable params: 0 (0.00 Byte)\n",
      "__________________________________________________________________________________________________\n"
     ]
    }
   ],
   "source": [
    "model.summary()"
   ]
  },
  {
   "cell_type": "markdown",
   "id": "c4a0e137-a544-4e39-9252-8cf5871a2d96",
   "metadata": {},
   "source": [
    "# Real Time Test"
   ]
  },
  {
   "cell_type": "code",
   "execution_count": 67,
   "id": "7ff531d7-d22d-49b3-ad15-c3e7ed0969cb",
   "metadata": {},
   "outputs": [],
   "source": [
    "def verify(model,detection_threshold,verification_threshold):\n",
    "    #detection_threshoold - metric above which prediction is considered positive\n",
    "    #verification_threshold - proportion of positive prediction / total positive samples\n",
    "    results = []\n",
    "    for image in os.listdir(os.path.join('application_data','verification_image')):\n",
    "        input_img = preprocess(os.path.join('application_data','input_image','input_image.jpg'))\n",
    "        validation_img = preprocess(os.path.join('application_data','verification_image',image))\n",
    "\n",
    "        result = model.predict(list(np.expand_dims([input_img,validation_img],axis = 1)))\n",
    "        results.append(result)\n",
    "\n",
    "    detection = np.sum(np.array(results)>detection_threshold)\n",
    "    verification = detection / len(os.listdir(os.path.join('application_data','verification_image')))\n",
    "    verified = verification > verification_threshold\n",
    "    return results,verified"
   ]
  },
  {
   "cell_type": "code",
   "execution_count": 68,
   "id": "a5b60ef5-4c99-4b30-b601-0188bb69519d",
   "metadata": {},
   "outputs": [
    {
     "name": "stdout",
     "output_type": "stream",
     "text": [
      "1/1 [==============================] - 0s 410ms/step\n",
      "1/1 [==============================] - 0s 402ms/step\n",
      "1/1 [==============================] - 0s 493ms/step\n",
      "1/1 [==============================] - 1s 539ms/step\n",
      "1/1 [==============================] - 1s 560ms/step\n",
      "1/1 [==============================] - 1s 542ms/step\n",
      "1/1 [==============================] - 1s 505ms/step\n",
      "1/1 [==============================] - 0s 496ms/step\n",
      "1/1 [==============================] - 0s 426ms/step\n",
      "1/1 [==============================] - 0s 364ms/step\n",
      "1/1 [==============================] - 0s 471ms/step\n",
      "1/1 [==============================] - 0s 371ms/step\n",
      "1/1 [==============================] - 0s 407ms/step\n",
      "1/1 [==============================] - 0s 376ms/step\n",
      "1/1 [==============================] - 0s 361ms/step\n",
      "1/1 [==============================] - 0s 424ms/step\n",
      "1/1 [==============================] - 0s 464ms/step\n",
      "1/1 [==============================] - 0s 467ms/step\n",
      "1/1 [==============================] - 0s 366ms/step\n",
      "1/1 [==============================] - 0s 423ms/step\n",
      "1/1 [==============================] - 0s 430ms/step\n",
      "1/1 [==============================] - 0s 358ms/step\n",
      "1/1 [==============================] - 0s 371ms/step\n",
      "1/1 [==============================] - 0s 418ms/step\n",
      "1/1 [==============================] - 0s 371ms/step\n",
      "1/1 [==============================] - 0s 348ms/step\n",
      "1/1 [==============================] - 0s 342ms/step\n",
      "1/1 [==============================] - 1s 551ms/step\n",
      "1/1 [==============================] - 0s 393ms/step\n",
      "1/1 [==============================] - 0s 417ms/step\n",
      "1/1 [==============================] - 1s 507ms/step\n",
      "1/1 [==============================] - 0s 416ms/step\n",
      "1/1 [==============================] - 0s 401ms/step\n",
      "1/1 [==============================] - 1s 596ms/step\n",
      "1/1 [==============================] - 1s 528ms/step\n",
      "1/1 [==============================] - 0s 440ms/step\n",
      "1/1 [==============================] - 0s 416ms/step\n",
      "1/1 [==============================] - 0s 376ms/step\n",
      "1/1 [==============================] - 0s 482ms/step\n",
      "1/1 [==============================] - 0s 464ms/step\n",
      "1/1 [==============================] - 0s 485ms/step\n",
      "1/1 [==============================] - 0s 498ms/step\n",
      "1/1 [==============================] - 0s 416ms/step\n",
      "1/1 [==============================] - 1s 533ms/step\n",
      "1/1 [==============================] - 0s 449ms/step\n",
      "1/1 [==============================] - 0s 455ms/step\n",
      "1/1 [==============================] - 0s 464ms/step\n",
      "1/1 [==============================] - 0s 444ms/step\n",
      "1/1 [==============================] - 0s 457ms/step\n",
      "1/1 [==============================] - 0s 466ms/step\n",
      "1/1 [==============================] - 0s 470ms/step\n",
      "1/1 [==============================] - 0s 480ms/step\n",
      "1/1 [==============================] - 1s 504ms/step\n",
      "1/1 [==============================] - 0s 362ms/step\n",
      "1/1 [==============================] - 0s 378ms/step\n",
      "1/1 [==============================] - 0s 461ms/step\n",
      "1/1 [==============================] - 0s 373ms/step\n",
      "1/1 [==============================] - 0s 355ms/step\n",
      "1/1 [==============================] - 0s 450ms/step\n",
      "1/1 [==============================] - 0s 422ms/step\n",
      "1/1 [==============================] - 1s 508ms/step\n",
      "False\n"
     ]
    }
   ],
   "source": [
    "# opening webcam\n",
    "cap = cv2.VideoCapture(0)\n",
    "while cap.isOpened():\n",
    "    ret,frame = cap.read()\n",
    "    frame = frame[120:120+250,200:200+250,:]\n",
    "    cv2.imshow('verification',frame)\n",
    "    if cv2.waitKey(10)& 0xFF==ord('v'):\n",
    "        cv2.imwrite(os.path.join('application_data','input_image','input_image.jpg'),frame)\n",
    "        #run verification\n",
    "        results, verified = verify(model,0.5,0.5)\n",
    "        print(verified)\n",
    "    if cv2.waitKey(10)& 0xFF==ord('q'):\n",
    "        break\n",
    "cap.release()\n",
    "cv2.destroyAllWindows()\n",
    "        "
   ]
  },
  {
   "cell_type": "code",
   "execution_count": null,
   "id": "5e745122-e530-433d-be97-cbf136ef3c11",
   "metadata": {},
   "outputs": [],
   "source": []
  }
 ],
 "metadata": {
  "kernelspec": {
   "display_name": "faceid",
   "language": "python",
   "name": "faceid"
  },
  "language_info": {
   "codemirror_mode": {
    "name": "ipython",
    "version": 3
   },
   "file_extension": ".py",
   "mimetype": "text/x-python",
   "name": "python",
   "nbconvert_exporter": "python",
   "pygments_lexer": "ipython3",
   "version": "3.9.7"
  }
 },
 "nbformat": 4,
 "nbformat_minor": 5
}
